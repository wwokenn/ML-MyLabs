{
 "cells": [
  {
   "cell_type": "markdown",
   "id": "careful-recognition",
   "metadata": {
    "tags": []
   },
   "source": [
    "#  Лабораторна робота \"Побудова прогнозу ціни житла в моделі лінійної регресії\" (з рішенням)\n",
    "\n",
    "__Метою__ лабораторної роботи є набуття практичних навичок побудови прогнозу значень деякого показчика створивши відповідну модель лінійної регресії від відомих спостережень."
   ]
  },
  {
   "cell_type": "markdown",
   "id": "8cbd7bdb",
   "metadata": {},
   "source": [
    "### ЗАВДАННЯ:"
   ]
  },
  {
   "cell_type": "markdown",
   "id": "44fbe38f",
   "metadata": {
    "heading_collapsed": true
   },
   "source": [
    "#### ВХІДНІ ДАННІ ТА ОЧІКУВАНИЙ РЕЗУЛЬТАТ"
   ]
  },
  {
   "cell_type": "markdown",
   "id": "c2378b45",
   "metadata": {
    "hidden": true
   },
   "source": [
    "Побудувати модель для оцінки вартісті житла на основі даних спостережень, які накопичені у зовнішньому файлі наступної структури:\n",
    "\n",
    "|    |      Показчик      | Формат |\n",
    "|:--:|:------------------ |:------:|\n",
    "|  1 | Ціна               |  Float |\n",
    "|  2 | Кількість кімнат   |   Int  |\n",
    "|  3 | Ціна за метр кв.   |  Float |\n",
    "|  4 | Поверх             |   Int  |\n",
    "|  5 | Кількість поверхів |   Iте  |\n",
    "|  6 | Рік побудови       |   Int  |\n",
    "|  7 | Загальна площа     |  Float |\n",
    "|  8 | Житлова площа      |  Float |\n",
    "|  9 | Площа кухні        |  Float |\n",
    "| 10 | Адреса             |   Str  |\n",
    "| 11 | Дата реєстрації    |   Str  |\n",
    "\n",
    "Дані для побудови та навчання моделі знаходяться в csv-файлі `kyiv_appatrments.csv`\n",
    "\n",
    "Після навчання моделі, виконати з її допомогою розрахунок ціни квартир з наступними характеристиками:\n",
    "\n",
    "|№ пропозиції|Кількість кімнат | Поверх  | Кількість поверхів | Рік побудови | Загальна площа  |Житлова площа | Площа кухні | Адреса | Дата реєстрації |\n",
    "|:--:|:----:|:-----:|:------:|:------:|-------|-------|-------|--------------------|---------|\n",
    "|1 |2   | 7   |9     |1969  |62.0   |47.0   |9.0    |Омеляновича-Павленка |3 вересня 2020 р.|\n",
    "|2 |4   |25   |26    |2018  |124.0  |71.0   |16.0   |                     |7 жовтня 2020 р.|\n",
    "\n",
    "\n",
    "__Результати__ надати у вигляді таблиці:\n",
    "\n",
    "|№ пропозиції|Ціна |\n",
    "|:--:|:----:|\n",
    "|1| <розрахункова ціна>|\n",
    "|2| <розрахункова ціна>|"
   ]
  },
  {
   "cell_type": "markdown",
   "id": "40f79cdd",
   "metadata": {
    "heading_collapsed": true
   },
   "source": [
    "#### ЕТАПИ ВИКОНАННЯ РОБОТИ:"
   ]
  },
  {
   "cell_type": "markdown",
   "id": "f6001b5d",
   "metadata": {
    "hidden": true
   },
   "source": [
    "Виконання лабораторної роботи, тобто побудова моделі повинна включати наступні етапи:\n",
    "\n",
    "1. Завантаження вихідного файлу у pandas-датафрейм\n",
    "2. Вивчення (інспектування) структури датасету та покражання його властивостей:\n",
    "    - приведення показчиків до необхідного формату\n",
    "    - вилучення показчиків, які не є інформативними з точки зору поставленої задачі\n",
    "    - визначення метода та заповнення відсутніх значень\n",
    "    - збагачення (по можлівості) даних новими показчиками\n",
    "    - візуалізація розподілення окремих показчиків\n",
    "3. Розбивка датасету на тренувальний та тестовий\n",
    "    - відокремити залежний показчик (ціна) від набора незалежних\n",
    "    - побудувити відповідні тренувальні та тестові датасети\n",
    "4. Створення лінійного регресора\n",
    "5. Тренування регресійної моделі\n",
    "    - підбір вагових коефіцієнтів\n",
    "    - підбір гіперпараметрів (регуляризація)\n",
    "6. Оцінка якості побудованої моделі\n",
    "7. Розрахунок за допомогою моделі ціни на житло з завдання\n",
    "8. Формування вихідної таблиці з результатами\n"
   ]
  },
  {
   "cell_type": "markdown",
   "id": "91a89279",
   "metadata": {},
   "source": [
    "## ХІД РОБОТИ"
   ]
  },
  {
   "cell_type": "markdown",
   "id": "d54497cf",
   "metadata": {
    "heading_collapsed": true
   },
   "source": [
    "### Інструметарій"
   ]
  },
  {
   "cell_type": "code",
   "execution_count": null,
   "id": "f379a2c5",
   "metadata": {
    "hidden": true
   },
   "outputs": [],
   "source": [
    "def show_predict_result(predictor, tests):\n",
    "    '''повертає прогноз на тестових показчиках `tests` \n",
    "       за допомогою предиктора `predictor`\n",
    "    '''\n",
    "    import warnings\n",
    "    warnings.filterwarnings(\"ignore\")\n",
    "    \n",
    "    print(f'кількість тестів: {len(tests)}\\nпредиктор: {predictor}')\n",
    "    \n",
    "    # будуємо список прогнозів\n",
    "    predictions = [predictor.predict([test]) for test in tests]\n",
    "    \n",
    "    # формуємо і повертаємо таблицю\n",
    "    return pd.DataFrame({'пропозиція_' + str(x[0]):x[1] for x in  enumerate(predictions,1)}).astype('int32')\n"
   ]
  },
  {
   "cell_type": "code",
   "execution_count": null,
   "id": "d64d24e3",
   "metadata": {
    "hidden": true
   },
   "outputs": [],
   "source": [
    "def show_comparision(real_prices, predicted_prices, number):\n",
    "    '''повертає порівняльну таблицю реальних та зпрогнозованих цін \n",
    "       `number` - кількість рядків таблиці \n",
    "    '''\n",
    "    \n",
    "    return pd.DataFrame({\"Реальні ціни\": real_prices[:number],\n",
    "             \"Розраховані ціни\": predicted_prices[:number]}).astype(\"int32\")"
   ]
  },
  {
   "cell_type": "markdown",
   "id": "426ef062",
   "metadata": {},
   "source": [
    "### 1. Завантаження вихідного файлу у pandas-датафрейм"
   ]
  },
  {
   "cell_type": "code",
   "execution_count": null,
   "id": "54c747d1",
   "metadata": {},
   "outputs": [],
   "source": [
    "# підключити бібліотеки Pandas, NumPy, Matplotlib, Scikit-learn та ін.\n",
    "import numpy as np\n",
    "import pandas as pd\n",
    "from matplotlib import pyplot as plt\n",
    "%matplotlib inline"
   ]
  },
  {
   "cell_type": "code",
   "execution_count": null,
   "id": "a686935f",
   "metadata": {},
   "outputs": [],
   "source": [
    "# 1. Завантаження вихідного файлу у pandas-датафрейм 'apparts'\n",
    "apparts = pd.read_csv('kyiv_appatrments.csv',\n",
    "                     names=['Ціна', 'Кількість кімнат', 'Ціна за метр кв.',\n",
    "                           'Поверх', 'Кількість поверхів', 'Рік побудови',\n",
    "                           'Загальна площа', 'Житлова площа', 'Площа кухні',\n",
    "                           'Адреса', 'Дата реєстрації'])"
   ]
  },
  {
   "cell_type": "markdown",
   "id": "a2d538aa",
   "metadata": {},
   "source": [
    "### 2. Вивчення (інспектування) структури датасету та покращення його властивостей:"
   ]
  },
  {
   "cell_type": "code",
   "execution_count": 3,
   "id": "8b4b4600",
   "metadata": {},
   "outputs": [
    {
     "name": "stdout",
     "output_type": "stream",
     "text": [
      "<class 'pandas.core.frame.DataFrame'>\n",
      "RangeIndex: 726 entries, 0 to 725\n",
      "Data columns (total 11 columns):\n",
      " #   Column              Non-Null Count  Dtype  \n",
      "---  ------              --------------  -----  \n",
      " 0   Ціна                726 non-null    float64\n",
      " 1   Кількість кімнат    726 non-null    object \n",
      " 2   Ціна за метр кв.    726 non-null    object \n",
      " 3   Поверх              726 non-null    object \n",
      " 4   Кількість поверхів  726 non-null    object \n",
      " 5   Рік побудови        726 non-null    object \n",
      " 6   Загальна площа      726 non-null    object \n",
      " 7   Житлова площа       726 non-null    object \n",
      " 8   Площа кухні         726 non-null    object \n",
      " 9   Адреса              726 non-null    object \n",
      " 10  Дата реєстрації     726 non-null    object \n",
      "dtypes: float64(1), object(10)\n",
      "memory usage: 62.5+ KB\n"
     ]
    }
   ],
   "source": [
    "# інспектування датафрейму `apparts`\n",
    "apparts.info()"
   ]
  },
  {
   "cell_type": "code",
   "execution_count": 4,
   "id": "334645dc",
   "metadata": {},
   "outputs": [
    {
     "data": {
      "text/html": [
       "<div>\n",
       "<style scoped>\n",
       "    .dataframe tbody tr th:only-of-type {\n",
       "        vertical-align: middle;\n",
       "    }\n",
       "\n",
       "    .dataframe tbody tr th {\n",
       "        vertical-align: top;\n",
       "    }\n",
       "\n",
       "    .dataframe thead th {\n",
       "        text-align: right;\n",
       "    }\n",
       "</style>\n",
       "<table border=\"1\" class=\"dataframe\">\n",
       "  <thead>\n",
       "    <tr style=\"text-align: right;\">\n",
       "      <th></th>\n",
       "      <th>Ціна</th>\n",
       "      <th>Кількість кімнат</th>\n",
       "      <th>Ціна за метр кв.</th>\n",
       "      <th>Поверх</th>\n",
       "      <th>Кількість поверхів</th>\n",
       "      <th>Рік побудови</th>\n",
       "      <th>Загальна площа</th>\n",
       "      <th>Житлова площа</th>\n",
       "      <th>Площа кухні</th>\n",
       "      <th>Адреса</th>\n",
       "      <th>Дата реєстрації</th>\n",
       "    </tr>\n",
       "  </thead>\n",
       "  <tbody>\n",
       "    <tr>\n",
       "      <th>0</th>\n",
       "      <td>175000.0</td>\n",
       "      <td>3</td>\n",
       "      <td>1786.0</td>\n",
       "      <td>25</td>\n",
       "      <td>26</td>\n",
       "      <td>2010</td>\n",
       "      <td>98.0</td>\n",
       "      <td>None</td>\n",
       "      <td>None</td>\n",
       "      <td>Ованеса Туманяна</td>\n",
       "      <td>1 жовтня 2020 р.</td>\n",
       "    </tr>\n",
       "    <tr>\n",
       "      <th>1</th>\n",
       "      <td>30970.0</td>\n",
       "      <td>1</td>\n",
       "      <td>1106.0</td>\n",
       "      <td>12</td>\n",
       "      <td>13</td>\n",
       "      <td>2013</td>\n",
       "      <td>28.0</td>\n",
       "      <td>13.0</td>\n",
       "      <td>5.0</td>\n",
       "      <td>Петропавлівська</td>\n",
       "      <td>1 лютого</td>\n",
       "    </tr>\n",
       "    <tr>\n",
       "      <th>2</th>\n",
       "      <td>82000.0</td>\n",
       "      <td>2</td>\n",
       "      <td>1281.0</td>\n",
       "      <td>18</td>\n",
       "      <td>26</td>\n",
       "      <td>None</td>\n",
       "      <td>64.0</td>\n",
       "      <td>None</td>\n",
       "      <td>None</td>\n",
       "      <td>Дніпровська</td>\n",
       "      <td>*** not found</td>\n",
       "    </tr>\n",
       "    <tr>\n",
       "      <th>3</th>\n",
       "      <td>168535.7</td>\n",
       "      <td>3</td>\n",
       "      <td>1872.6</td>\n",
       "      <td>4</td>\n",
       "      <td>9</td>\n",
       "      <td>1966</td>\n",
       "      <td>90.0</td>\n",
       "      <td>45.0</td>\n",
       "      <td>10.0</td>\n",
       "      <td>Саксаганського</td>\n",
       "      <td>28 жовтня 2020 р.</td>\n",
       "    </tr>\n",
       "    <tr>\n",
       "      <th>4</th>\n",
       "      <td>4500000.0</td>\n",
       "      <td>4</td>\n",
       "      <td>14610.0</td>\n",
       "      <td>18</td>\n",
       "      <td>21</td>\n",
       "      <td>2011</td>\n",
       "      <td>308.0</td>\n",
       "      <td>None</td>\n",
       "      <td>None</td>\n",
       "      <td>Івана Мазепи</td>\n",
       "      <td>19 жовтня 2020 р.</td>\n",
       "    </tr>\n",
       "  </tbody>\n",
       "</table>\n",
       "</div>"
      ],
      "text/plain": [
       "        Ціна Кількість кімнат Ціна за метр кв. Поверх Кількість поверхів  \\\n",
       "0   175000.0                3           1786.0     25                 26   \n",
       "1    30970.0                1           1106.0     12                 13   \n",
       "2    82000.0                2           1281.0     18                 26   \n",
       "3   168535.7                3           1872.6      4                  9   \n",
       "4  4500000.0                4          14610.0     18                 21   \n",
       "\n",
       "  Рік побудови Загальна площа Житлова площа Площа кухні             Адреса  \\\n",
       "0         2010           98.0          None        None   Ованеса Туманяна   \n",
       "1         2013           28.0          13.0         5.0    Петропавлівська   \n",
       "2         None           64.0          None        None        Дніпровська   \n",
       "3         1966           90.0          45.0        10.0     Саксаганського   \n",
       "4         2011          308.0          None        None       Івана Мазепи   \n",
       "\n",
       "     Дата реєстрації  \n",
       "0   1 жовтня 2020 р.  \n",
       "1           1 лютого  \n",
       "2      *** not found  \n",
       "3  28 жовтня 2020 р.  \n",
       "4  19 жовтня 2020 р.  "
      ]
     },
     "execution_count": 4,
     "metadata": {},
     "output_type": "execute_result"
    }
   ],
   "source": [
    "apparts.head()"
   ]
  },
  {
   "cell_type": "code",
   "execution_count": 5,
   "id": "2824454c",
   "metadata": {},
   "outputs": [],
   "source": [
    "# визначення та вилучення зайвих колонок (метод 'drop')\n",
    "apparts.drop(['Адреса', 'Дата реєстрації'], axis=1, inplace=True)"
   ]
  },
  {
   "cell_type": "code",
   "execution_count": 6,
   "id": "a85eb1dd",
   "metadata": {},
   "outputs": [
    {
     "name": "stdout",
     "output_type": "stream",
     "text": [
      "<class 'pandas.core.frame.DataFrame'>\n",
      "RangeIndex: 726 entries, 0 to 725\n",
      "Data columns (total 9 columns):\n",
      " #   Column              Non-Null Count  Dtype  \n",
      "---  ------              --------------  -----  \n",
      " 0   Ціна                726 non-null    float64\n",
      " 1   Кількість кімнат    726 non-null    object \n",
      " 2   Ціна за метр кв.    726 non-null    object \n",
      " 3   Поверх              726 non-null    object \n",
      " 4   Кількість поверхів  726 non-null    object \n",
      " 5   Рік побудови        726 non-null    object \n",
      " 6   Загальна площа      726 non-null    object \n",
      " 7   Житлова площа       726 non-null    object \n",
      " 8   Площа кухні         726 non-null    object \n",
      "dtypes: float64(1), object(8)\n",
      "memory usage: 51.2+ KB\n"
     ]
    }
   ],
   "source": [
    "apparts.info()"
   ]
  },
  {
   "cell_type": "code",
   "execution_count": 7,
   "id": "4d3da7f2",
   "metadata": {},
   "outputs": [],
   "source": [
    "# заміна строки 'None' на об'єкт nan\n",
    "apparts.replace('None', np.nan, inplace=True)\n",
    "\n",
    "# заповнення відсутніх значень (метод `fillna` або `dropna`) у незалежних показчиків\n",
    "for col in apparts.columns[1:]:\n",
    "        apparts[col].fillna(apparts[col].median(), inplace=True)"
   ]
  },
  {
   "cell_type": "code",
   "execution_count": 9,
   "id": "76afff5b",
   "metadata": {},
   "outputs": [
    {
     "name": "stdout",
     "output_type": "stream",
     "text": [
      "Index(['Ціна', 'Кількість кімнат', 'Ціна за метр кв.', 'Поверх',\n",
      "       'Кількість поверхів', 'Рік побудови', 'Загальна площа', 'Житлова площа',\n",
      "       'Площа кухні'],\n",
      "      dtype='object')\n",
      "<class 'pandas.core.frame.DataFrame'>\n",
      "RangeIndex: 726 entries, 0 to 725\n",
      "Data columns (total 9 columns):\n",
      " #   Column              Non-Null Count  Dtype  \n",
      "---  ------              --------------  -----  \n",
      " 0   Ціна                726 non-null    float64\n",
      " 1   Кількість кімнат    726 non-null    int8   \n",
      " 2   Ціна за метр кв.    726 non-null    float64\n",
      " 3   Поверх              726 non-null    int8   \n",
      " 4   Кількість поверхів  726 non-null    int16  \n",
      " 5   Рік побудови        726 non-null    int16  \n",
      " 6   Загальна площа      726 non-null    float64\n",
      " 7   Житлова площа       726 non-null    float64\n",
      " 8   Площа кухні         726 non-null    float64\n",
      "dtypes: float64(5), int16(2), int8(2)\n",
      "memory usage: 32.7 KB\n"
     ]
    }
   ],
   "source": [
    "# форматування колонок (метод 'astype')\n",
    "print(apparts.columns)\n",
    "apparts['Кількість кімнат'] = apparts['Кількість кімнат'].astype('int8')\n",
    "apparts['Ціна за метр кв.'] = apparts['Ціна за метр кв.'].astype('float')\n",
    "apparts['Поверх']           = apparts['Поверх'].astype('int8')\n",
    "apparts['Кількість поверхів'] = apparts['Кількість поверхів'].astype('int16')\n",
    "apparts['Рік побудови'] = apparts['Рік побудови'].astype('int16')\n",
    "apparts['Загальна площа'] = apparts['Загальна площа'].astype('float')\n",
    "apparts['Житлова площа'] = apparts['Житлова площа'].astype('float')\n",
    "apparts['Площа кухні'] = apparts['Площа кухні'].astype('float')\n",
    "apparts.info()"
   ]
  },
  {
   "cell_type": "code",
   "execution_count": 10,
   "id": "f1c4f0d2",
   "metadata": {},
   "outputs": [
    {
     "name": "stdout",
     "output_type": "stream",
     "text": [
      "               Ціна  Кількість кімнат  Ціна за метр кв.      Поверх  \\\n",
      "count  7.260000e+02        726.000000        726.000000  726.000000   \n",
      "mean   2.003523e+05          2.223140       2088.102342    9.557851   \n",
      "std    6.758112e+05          1.023753       5888.667842    6.802137   \n",
      "min    1.009210e+04          1.000000        478.000000    1.000000   \n",
      "25%    6.500000e+04          1.000000       1148.250000    4.000000   \n",
      "50%    1.034500e+05          2.000000       1562.000000    8.000000   \n",
      "75%    1.700000e+05          3.000000       2181.250000   14.000000   \n",
      "max    1.570000e+07          7.000000     157000.000000   33.000000   \n",
      "\n",
      "       Кількість поверхів  Рік побудови  Загальна площа  Житлова площа  \\\n",
      "count          726.000000    726.000000      726.000000     726.000000   \n",
      "mean            17.741047   2000.125344       78.506887      40.568871   \n",
      "std              8.314285     24.072236       48.125604      25.381124   \n",
      "min              2.000000   1860.000000       15.000000      10.000000   \n",
      "25%              9.000000   1997.000000       53.000000      30.000000   \n",
      "50%             19.000000   2010.000000       68.500000      37.000000   \n",
      "75%             25.000000   2015.000000       89.000000      43.000000   \n",
      "max             47.000000   2021.000000      520.000000     320.000000   \n",
      "\n",
      "       Площа кухні  \n",
      "count   726.000000  \n",
      "mean     15.362259  \n",
      "std       8.568726  \n",
      "min       3.000000  \n",
      "25%      11.000000  \n",
      "50%      14.000000  \n",
      "75%      16.000000  \n",
      "max      78.000000  \n"
     ]
    }
   ],
   "source": [
    "print(apparts.describe())"
   ]
  },
  {
   "cell_type": "code",
   "execution_count": 17,
   "id": "43128759",
   "metadata": {},
   "outputs": [
    {
     "data": {
      "image/png": "[encoded data removed]",
      "text/plain": [
       "<Figure size 720x360 with 1 Axes>"
      ]
     },
     "metadata": {
      "needs_background": "light"
     },
     "output_type": "display_data"
    }
   ],
   "source": [
    "plt.figure(figsize=(10,5))\n",
    "plt.boxplot(\n",
    "    [\n",
    "      apparts[apparts['Ціна'] < 15000000]['Кількість поверхів'],\n",
    "      apparts[apparts['Ціна'] < 500000]['Поверх'],\n",
    "      apparts['Поверх']\n",
    "\n",
    "\n",
    "    ],\n",
    "    vert=False)\n",
    "# plt.boxplot(apparts[apparts['Ціна'] < 500000]['Поверх'], vert=False)\n",
    "\n",
    "plt.show()"
   ]
  },
  {
   "cell_type": "code",
   "execution_count": 18,
   "id": "88dda14e",
   "metadata": {
    "code_folding": []
   },
   "outputs": [
    {
     "data": {
      "image/png": "[encoded data removed]",
      "text/plain": [
       "<Figure size 720x720 with 4 Axes>"
      ]
     },
     "metadata": {
      "needs_background": "light"
     },
     "output_type": "display_data"
    }
   ],
   "source": [
    "# візуалізація впливу окремих показчиків на показчик 'ціна'\n",
    "# скористатись методом `scatter` або `plot` для виводу залежності ціни (Y) від\n",
    "# показчика, що досліджується (X)\n",
    "\n",
    "fig, ax = plt.subplots(4, figsize=(10,10))\n",
    "\n",
    "median_by_rooms = apparts.groupby(apparts['Кількість кімнат'])['Ціна'].median()\n",
    "mean_by_rooms   = apparts.groupby(apparts['Кількість кімнат'])['Ціна'].mean()\n",
    "ax[0].plot(median_by_rooms, label='Медіана')\n",
    "ax[0].plot(mean_by_rooms, label='Середнє')\n",
    "ax[0].xlabel = 'Кількість кімнат'\n",
    "ax[0].ylabel = 'Ціна'\n",
    "ax[0].legend()\n",
    "\n",
    "median_by_level = apparts.groupby(apparts['Поверх'])['Ціна'].median()\n",
    "mean_by_level   = apparts.groupby(apparts['Поверх'])['Ціна'].mean()\n",
    "ax[1].plot(median_by_level, label='Медіана')\n",
    "ax[1].plot(mean_by_level, label='Середнє')\n",
    "ax[1].xlabel = 'Поверх'\n",
    "ax[1].ylabel = 'Ціна'\n",
    "ax[1].legend()\n",
    "\n",
    "median_by_year = apparts.groupby(apparts['Рік побудови'])['Ціна'].median()\n",
    "mean_by_year   = apparts.groupby(apparts['Рік побудови'])['Ціна'].mean()\n",
    "ax[2].plot(median_by_year, label='Медіана')\n",
    "ax[2].plot(mean_by_year, label='Середнє')\n",
    "ax[2].xlabel = 'Рік побудови'\n",
    "ax[2].ylabel = 'Ціна'\n",
    "ax[2].legend()\n",
    "\n",
    "median_by_square = apparts.groupby(apparts['Загальна площа'])['Ціна'].median()\n",
    "mean_by_square   = apparts.groupby(apparts['Загальна площа'])['Ціна'].mean()\n",
    "ax[3].plot(median_by_square, label='Медіана')\n",
    "ax[3].plot(mean_by_square, label='Середнє')\n",
    "ax[3].xlabel = 'Загальна площа'\n",
    "ax[3].ylabel = 'Ціна'\n",
    "ax[3].legend()\n",
    "\n",
    "plt.show()"
   ]
  },
  {
   "cell_type": "code",
   "execution_count": 21,
   "id": "cfd4dbd9",
   "metadata": {},
   "outputs": [
    {
     "data": {
      "text/html": [
       "<div>\n",
       "<style scoped>\n",
       "    .dataframe tbody tr th:only-of-type {\n",
       "        vertical-align: middle;\n",
       "    }\n",
       "\n",
       "    .dataframe tbody tr th {\n",
       "        vertical-align: top;\n",
       "    }\n",
       "\n",
       "    .dataframe thead th {\n",
       "        text-align: right;\n",
       "    }\n",
       "</style>\n",
       "<table border=\"1\" class=\"dataframe\">\n",
       "  <thead>\n",
       "    <tr style=\"text-align: right;\">\n",
       "      <th></th>\n",
       "      <th>Ціна</th>\n",
       "      <th>Кількість кімнат</th>\n",
       "      <th>Ціна за метр кв.</th>\n",
       "      <th>Поверх</th>\n",
       "      <th>Кількість поверхів</th>\n",
       "      <th>Рік побудови</th>\n",
       "      <th>Загальна площа</th>\n",
       "      <th>Житлова площа</th>\n",
       "      <th>Площа кухні</th>\n",
       "    </tr>\n",
       "  </thead>\n",
       "  <tbody>\n",
       "    <tr>\n",
       "      <th>Ціна</th>\n",
       "      <td>1.0</td>\n",
       "      <td>0.235535</td>\n",
       "      <td>0.922847</td>\n",
       "      <td>0.00951</td>\n",
       "      <td>-0.038712</td>\n",
       "      <td>-0.075362</td>\n",
       "      <td>0.409012</td>\n",
       "      <td>0.273341</td>\n",
       "      <td>0.136712</td>\n",
       "    </tr>\n",
       "  </tbody>\n",
       "</table>\n",
       "</div>"
      ],
      "text/plain": [
       "      Ціна  Кількість кімнат  Ціна за метр кв.   Поверх  Кількість поверхів  \\\n",
       "Ціна   1.0          0.235535          0.922847  0.00951           -0.038712   \n",
       "\n",
       "      Рік побудови  Загальна площа  Житлова площа  Площа кухні  \n",
       "Ціна     -0.075362        0.409012       0.273341     0.136712  "
      ]
     },
     "execution_count": 21,
     "metadata": {},
     "output_type": "execute_result"
    }
   ],
   "source": [
    "apparts.corr()[:1]"
   ]
  },
  {
   "cell_type": "code",
   "execution_count": 22,
   "id": "344ccc08",
   "metadata": {},
   "outputs": [
    {
     "data": {
      "image/png": "[encoded data removed]",
      "text/plain": [
       "<Figure size 432x288 with 1 Axes>"
      ]
     },
     "metadata": {
      "needs_background": "light"
     },
     "output_type": "display_data"
    }
   ],
   "source": [
    "# відобразити кореляції\n",
    "cors = apparts.corr()[:1]\n",
    "plt.bar(apparts.columns, cors.to_numpy().reshape(9,))\n",
    "plt.xticks(rotation=90)\n",
    "plt.show()"
   ]
  },
  {
   "cell_type": "markdown",
   "id": "0665df9b",
   "metadata": {},
   "source": [
    "### 3. Розбивка датасету на тренувальний та тестовий"
   ]
  },
  {
   "cell_type": "code",
   "execution_count": 93,
   "id": "d92c301b",
   "metadata": {},
   "outputs": [],
   "source": [
    "# розділити датафрейм `apparts` на датафрейми `prices` та `props` (метод `train_test_split`)\n",
    "\n",
    "prices = apparts['Ціна']\n",
    "props = apparts.drop(['Ціна'], axis=1)"
   ]
  },
  {
   "cell_type": "code",
   "execution_count": 94,
   "id": "5e88fe87",
   "metadata": {},
   "outputs": [
    {
     "name": "stdout",
     "output_type": "stream",
     "text": [
      "(466, 9) (200, 9)\n",
      "(466,) (200,)\n"
     ]
    }
   ],
   "source": [
    "# побудувати тренувальні та тестові датасети (метод `train_test_split`):\n",
    "# `prices_train`, `props_train`, `prices_test` та `props_test`\n",
    "from sklearn import model_selection\n",
    "props_train, props_test, prices_train, prices_test = \\\n",
    "    model_selection.train_test_split(props, prices, test_size=.3, random_state=42)\n",
    "    \n",
    "print(props_train.shape, props_test.shape)\n",
    "print(prices_train.shape, prices_test.shape)"
   ]
  },
  {
   "cell_type": "markdown",
   "id": "62c200d8",
   "metadata": {},
   "source": [
    "### 4. Створення лінійного регресора"
   ]
  },
  {
   "cell_type": "code",
   "execution_count": 95,
   "id": "4d30a6fc",
   "metadata": {},
   "outputs": [],
   "source": [
    "# створити лінійний регрессор (конструктор `LinearRegression`)\n",
    "from sklearn.linear_model import LinearRegression\n",
    "lr = LinearRegression(fit_intercept=False)"
   ]
  },
  {
   "cell_type": "markdown",
   "id": "ddd2e275",
   "metadata": {},
   "source": [
    "### 5. Тренування регресійної моделі"
   ]
  },
  {
   "cell_type": "code",
   "execution_count": 96,
   "id": "08385e48",
   "metadata": {},
   "outputs": [
    {
     "data": {
      "text/plain": [
       "LinearRegression(fit_intercept=False)"
      ]
     },
     "execution_count": 96,
     "metadata": {},
     "output_type": "execute_result"
    }
   ],
   "source": [
    "# тренувати регресор `lr` (метод `fit`)\n",
    "lr.fit(props_train, prices_train)"
   ]
  },
  {
   "cell_type": "markdown",
   "id": "34bc1245",
   "metadata": {},
   "source": [
    "### 6. Оцінка якості побудованої моделі"
   ]
  },
  {
   "cell_type": "code",
   "execution_count": 97,
   "id": "af8672ae",
   "metadata": {},
   "outputs": [
    {
     "name": "stdout",
     "output_type": "stream",
     "text": [
      "[8408.04656559   86.36205725 -111.17736856  -54.77644333  -87.82657457\n",
      " 1500.17265294  538.48495132  829.39370901  132.29399261]\n",
      "0.0\n"
     ]
    }
   ],
   "source": [
    "# вивести та оцінити отримані коєфіціенти регресії\n",
    "print(lr.coef_)\n",
    "print(lr.intercept_)"
   ]
  },
  {
   "cell_type": "code",
   "execution_count": 98,
   "id": "cf5637cd",
   "metadata": {
    "scrolled": true
   },
   "outputs": [
    {
     "name": "stdout",
     "output_type": "stream",
     "text": [
      "0.8928480610998583\n",
      "0.7668662162605326\n"
     ]
    }
   ],
   "source": [
    "# вивести показчики якости (r2) побудованої моделі (`score`)\n",
    "print(lr.score(props_train, prices_train))\n",
    "print(lr.score(props_test, prices_test))"
   ]
  },
  {
   "cell_type": "markdown",
   "id": "1d8c5f9d",
   "metadata": {},
   "source": [
    "### 7. Побудова прогнозу (`predict`)"
   ]
  },
  {
   "cell_type": "code",
   "execution_count": 99,
   "id": "2cf5cf2f",
   "metadata": {},
   "outputs": [],
   "source": [
    "prices_predict = lr.predict(props_test)"
   ]
  },
  {
   "cell_type": "code",
   "execution_count": 100,
   "id": "138136ed",
   "metadata": {
    "code_folding": []
   },
   "outputs": [
    {
     "data": {
      "text/html": [
       "<div>\n",
       "<style scoped>\n",
       "    .dataframe tbody tr th:only-of-type {\n",
       "        vertical-align: middle;\n",
       "    }\n",
       "\n",
       "    .dataframe tbody tr th {\n",
       "        vertical-align: top;\n",
       "    }\n",
       "\n",
       "    .dataframe thead th {\n",
       "        text-align: right;\n",
       "    }\n",
       "</style>\n",
       "<table border=\"1\" class=\"dataframe\">\n",
       "  <thead>\n",
       "    <tr style=\"text-align: right;\">\n",
       "      <th></th>\n",
       "      <th>Реальні ціни</th>\n",
       "      <th>Розраховані ціни</th>\n",
       "    </tr>\n",
       "  </thead>\n",
       "  <tbody>\n",
       "    <tr>\n",
       "      <th>667</th>\n",
       "      <td>58000</td>\n",
       "      <td>57004</td>\n",
       "    </tr>\n",
       "    <tr>\n",
       "      <th>185</th>\n",
       "      <td>147075</td>\n",
       "      <td>163627</td>\n",
       "    </tr>\n",
       "    <tr>\n",
       "      <th>688</th>\n",
       "      <td>140000</td>\n",
       "      <td>161233</td>\n",
       "    </tr>\n",
       "    <tr>\n",
       "      <th>263</th>\n",
       "      <td>62000</td>\n",
       "      <td>42792</td>\n",
       "    </tr>\n",
       "    <tr>\n",
       "      <th>554</th>\n",
       "      <td>39000</td>\n",
       "      <td>9102</td>\n",
       "    </tr>\n",
       "    <tr>\n",
       "      <th>396</th>\n",
       "      <td>67000</td>\n",
       "      <td>53361</td>\n",
       "    </tr>\n",
       "    <tr>\n",
       "      <th>427</th>\n",
       "      <td>135000</td>\n",
       "      <td>152526</td>\n",
       "    </tr>\n",
       "    <tr>\n",
       "      <th>487</th>\n",
       "      <td>150000</td>\n",
       "      <td>163773</td>\n",
       "    </tr>\n",
       "    <tr>\n",
       "      <th>605</th>\n",
       "      <td>158364</td>\n",
       "      <td>170377</td>\n",
       "    </tr>\n",
       "    <tr>\n",
       "      <th>114</th>\n",
       "      <td>900000</td>\n",
       "      <td>596861</td>\n",
       "    </tr>\n",
       "  </tbody>\n",
       "</table>\n",
       "</div>"
      ],
      "text/plain": [
       "     Реальні ціни  Розраховані ціни\n",
       "667         58000             57004\n",
       "185        147075            163627\n",
       "688        140000            161233\n",
       "263         62000             42792\n",
       "554         39000              9102\n",
       "396         67000             53361\n",
       "427        135000            152526\n",
       "487        150000            163773\n",
       "605        158364            170377\n",
       "114        900000            596861"
      ]
     },
     "execution_count": 100,
     "metadata": {},
     "output_type": "execute_result"
    }
   ],
   "source": [
    "pd.DataFrame({\"Реальні ціни\": prices_test[:10],\n",
    "             \"Розраховані ціни\": prices_predict[:10]}).astype(\"int32\")"
   ]
  },
  {
   "cell_type": "code",
   "execution_count": 101,
   "id": "a4357732",
   "metadata": {},
   "outputs": [
    {
     "data": {
      "image/png": "[encoded data removed]",
      "text/plain": [
       "<Figure size 720x360 with 1 Axes>"
      ]
     },
     "metadata": {
      "needs_background": "light"
     },
     "output_type": "display_data"
    }
   ],
   "source": [
    "# графічна інтерпретація\n",
    "plt.figure(figsize=(10,5))\n",
    "plt.yscale(\"log\")\n",
    "plt.plot(prices_test.to_numpy(), 'o', prices_predict, '+')\n",
    "\n",
    "plt.show()"
   ]
  },
  {
   "cell_type": "code",
   "execution_count": 102,
   "id": "8dd012fa",
   "metadata": {
    "scrolled": true
   },
   "outputs": [
    {
     "name": "stderr",
     "output_type": "stream",
     "text": [
      "/Users/sergey/opt/miniconda3/envs/p39jupyter/lib/python3.9/site-packages/sklearn/base.py:450: UserWarning: X does not have valid feature names, but LinearRegression was fitted with feature names\n",
      "  warnings.warn(\n"
     ]
    },
    {
     "ename": "ValueError",
     "evalue": "X has 8 features, but LinearRegression is expecting 9 features as input.",
     "output_type": "error",
     "traceback": [
      "\u001b[0;31m---------------------------------------------------------------------------\u001b[0m",
      "\u001b[0;31mValueError\u001b[0m                                Traceback (most recent call last)",
      "Input \u001b[0;32mIn [102]\u001b[0m, in \u001b[0;36m<module>\u001b[0;34m\u001b[0m\n\u001b[0;32m----> 1\u001b[0m price_1 \u001b[38;5;241m=\u001b[39m \u001b[43mlr\u001b[49m\u001b[38;5;241;43m.\u001b[39;49m\u001b[43mpredict\u001b[49m\u001b[43m(\u001b[49m\u001b[43m[\u001b[49m\u001b[43m[\u001b[49m\u001b[38;5;241;43m2\u001b[39;49m\u001b[43m,\u001b[49m\u001b[43m \u001b[49m\u001b[38;5;241;43m2258.0\u001b[39;49m\u001b[43m,\u001b[49m\u001b[43m \u001b[49m\u001b[38;5;241;43m7\u001b[39;49m\u001b[43m,\u001b[49m\u001b[43m \u001b[49m\u001b[38;5;241;43m9\u001b[39;49m\u001b[43m,\u001b[49m\u001b[43m \u001b[49m\u001b[38;5;241;43m1969\u001b[39;49m\u001b[43m,\u001b[49m\u001b[43m \u001b[49m\u001b[38;5;241;43m62.0\u001b[39;49m\u001b[43m,\u001b[49m\u001b[43m \u001b[49m\u001b[38;5;241;43m47.0\u001b[39;49m\u001b[43m \u001b[49m\u001b[43m,\u001b[49m\u001b[38;5;241;43m9.0\u001b[39;49m\u001b[43m]\u001b[49m\u001b[43m]\u001b[49m\u001b[43m)\u001b[49m\n\u001b[1;32m      2\u001b[0m price_2 \u001b[38;5;241m=\u001b[39m lr\u001b[38;5;241m.\u001b[39mpredict([[\u001b[38;5;241m4\u001b[39m, \u001b[38;5;241m847.0\u001b[39m, \u001b[38;5;241m25\u001b[39m, \u001b[38;5;241m26\u001b[39m, \u001b[38;5;241m2018\u001b[39m, \u001b[38;5;241m124.0\u001b[39m,\u001b[38;5;241m71.0\u001b[39m,\u001b[38;5;241m16.0\u001b[39m]])\n\u001b[1;32m      4\u001b[0m \u001b[38;5;28mprint\u001b[39m(price_1)\n",
      "File \u001b[0;32m~/opt/miniconda3/envs/p39jupyter/lib/python3.9/site-packages/sklearn/linear_model/_base.py:362\u001b[0m, in \u001b[0;36mLinearModel.predict\u001b[0;34m(self, X)\u001b[0m\n\u001b[1;32m    348\u001b[0m \u001b[38;5;28;01mdef\u001b[39;00m \u001b[38;5;21mpredict\u001b[39m(\u001b[38;5;28mself\u001b[39m, X):\n\u001b[1;32m    349\u001b[0m     \u001b[38;5;124;03m\"\"\"\u001b[39;00m\n\u001b[1;32m    350\u001b[0m \u001b[38;5;124;03m    Predict using the linear model.\u001b[39;00m\n\u001b[1;32m    351\u001b[0m \n\u001b[0;32m   (...)\u001b[0m\n\u001b[1;32m    360\u001b[0m \u001b[38;5;124;03m        Returns predicted values.\u001b[39;00m\n\u001b[1;32m    361\u001b[0m \u001b[38;5;124;03m    \"\"\"\u001b[39;00m\n\u001b[0;32m--> 362\u001b[0m     \u001b[38;5;28;01mreturn\u001b[39;00m \u001b[38;5;28;43mself\u001b[39;49m\u001b[38;5;241;43m.\u001b[39;49m\u001b[43m_decision_function\u001b[49m\u001b[43m(\u001b[49m\u001b[43mX\u001b[49m\u001b[43m)\u001b[49m\n",
      "File \u001b[0;32m~/opt/miniconda3/envs/p39jupyter/lib/python3.9/site-packages/sklearn/linear_model/_base.py:345\u001b[0m, in \u001b[0;36mLinearModel._decision_function\u001b[0;34m(self, X)\u001b[0m\n\u001b[1;32m    342\u001b[0m \u001b[38;5;28;01mdef\u001b[39;00m \u001b[38;5;21m_decision_function\u001b[39m(\u001b[38;5;28mself\u001b[39m, X):\n\u001b[1;32m    343\u001b[0m     check_is_fitted(\u001b[38;5;28mself\u001b[39m)\n\u001b[0;32m--> 345\u001b[0m     X \u001b[38;5;241m=\u001b[39m \u001b[38;5;28;43mself\u001b[39;49m\u001b[38;5;241;43m.\u001b[39;49m\u001b[43m_validate_data\u001b[49m\u001b[43m(\u001b[49m\u001b[43mX\u001b[49m\u001b[43m,\u001b[49m\u001b[43m \u001b[49m\u001b[43maccept_sparse\u001b[49m\u001b[38;5;241;43m=\u001b[39;49m\u001b[43m[\u001b[49m\u001b[38;5;124;43m\"\u001b[39;49m\u001b[38;5;124;43mcsr\u001b[39;49m\u001b[38;5;124;43m\"\u001b[39;49m\u001b[43m,\u001b[49m\u001b[43m \u001b[49m\u001b[38;5;124;43m\"\u001b[39;49m\u001b[38;5;124;43mcsc\u001b[39;49m\u001b[38;5;124;43m\"\u001b[39;49m\u001b[43m,\u001b[49m\u001b[43m \u001b[49m\u001b[38;5;124;43m\"\u001b[39;49m\u001b[38;5;124;43mcoo\u001b[39;49m\u001b[38;5;124;43m\"\u001b[39;49m\u001b[43m]\u001b[49m\u001b[43m,\u001b[49m\u001b[43m \u001b[49m\u001b[43mreset\u001b[49m\u001b[38;5;241;43m=\u001b[39;49m\u001b[38;5;28;43;01mFalse\u001b[39;49;00m\u001b[43m)\u001b[49m\n\u001b[1;32m    346\u001b[0m     \u001b[38;5;28;01mreturn\u001b[39;00m safe_sparse_dot(X, \u001b[38;5;28mself\u001b[39m\u001b[38;5;241m.\u001b[39mcoef_\u001b[38;5;241m.\u001b[39mT, dense_output\u001b[38;5;241m=\u001b[39m\u001b[38;5;28;01mTrue\u001b[39;00m) \u001b[38;5;241m+\u001b[39m \u001b[38;5;28mself\u001b[39m\u001b[38;5;241m.\u001b[39mintercept_\n",
      "File \u001b[0;32m~/opt/miniconda3/envs/p39jupyter/lib/python3.9/site-packages/sklearn/base.py:585\u001b[0m, in \u001b[0;36mBaseEstimator._validate_data\u001b[0;34m(self, X, y, reset, validate_separately, **check_params)\u001b[0m\n\u001b[1;32m    582\u001b[0m     out \u001b[38;5;241m=\u001b[39m X, y\n\u001b[1;32m    584\u001b[0m \u001b[38;5;28;01mif\u001b[39;00m \u001b[38;5;129;01mnot\u001b[39;00m no_val_X \u001b[38;5;129;01mand\u001b[39;00m check_params\u001b[38;5;241m.\u001b[39mget(\u001b[38;5;124m\"\u001b[39m\u001b[38;5;124mensure_2d\u001b[39m\u001b[38;5;124m\"\u001b[39m, \u001b[38;5;28;01mTrue\u001b[39;00m):\n\u001b[0;32m--> 585\u001b[0m     \u001b[38;5;28;43mself\u001b[39;49m\u001b[38;5;241;43m.\u001b[39;49m\u001b[43m_check_n_features\u001b[49m\u001b[43m(\u001b[49m\u001b[43mX\u001b[49m\u001b[43m,\u001b[49m\u001b[43m \u001b[49m\u001b[43mreset\u001b[49m\u001b[38;5;241;43m=\u001b[39;49m\u001b[43mreset\u001b[49m\u001b[43m)\u001b[49m\n\u001b[1;32m    587\u001b[0m \u001b[38;5;28;01mreturn\u001b[39;00m out\n",
      "File \u001b[0;32m~/opt/miniconda3/envs/p39jupyter/lib/python3.9/site-packages/sklearn/base.py:400\u001b[0m, in \u001b[0;36mBaseEstimator._check_n_features\u001b[0;34m(self, X, reset)\u001b[0m\n\u001b[1;32m    397\u001b[0m     \u001b[38;5;28;01mreturn\u001b[39;00m\n\u001b[1;32m    399\u001b[0m \u001b[38;5;28;01mif\u001b[39;00m n_features \u001b[38;5;241m!=\u001b[39m \u001b[38;5;28mself\u001b[39m\u001b[38;5;241m.\u001b[39mn_features_in_:\n\u001b[0;32m--> 400\u001b[0m     \u001b[38;5;28;01mraise\u001b[39;00m \u001b[38;5;167;01mValueError\u001b[39;00m(\n\u001b[1;32m    401\u001b[0m         \u001b[38;5;124mf\u001b[39m\u001b[38;5;124m\"\u001b[39m\u001b[38;5;124mX has \u001b[39m\u001b[38;5;132;01m{\u001b[39;00mn_features\u001b[38;5;132;01m}\u001b[39;00m\u001b[38;5;124m features, but \u001b[39m\u001b[38;5;132;01m{\u001b[39;00m\u001b[38;5;28mself\u001b[39m\u001b[38;5;241m.\u001b[39m\u001b[38;5;18m__class__\u001b[39m\u001b[38;5;241m.\u001b[39m\u001b[38;5;18m__name__\u001b[39m\u001b[38;5;132;01m}\u001b[39;00m\u001b[38;5;124m \u001b[39m\u001b[38;5;124m\"\u001b[39m\n\u001b[1;32m    402\u001b[0m         \u001b[38;5;124mf\u001b[39m\u001b[38;5;124m\"\u001b[39m\u001b[38;5;124mis expecting \u001b[39m\u001b[38;5;132;01m{\u001b[39;00m\u001b[38;5;28mself\u001b[39m\u001b[38;5;241m.\u001b[39mn_features_in_\u001b[38;5;132;01m}\u001b[39;00m\u001b[38;5;124m features as input.\u001b[39m\u001b[38;5;124m\"\u001b[39m\n\u001b[1;32m    403\u001b[0m     )\n",
      "\u001b[0;31mValueError\u001b[0m: X has 8 features, but LinearRegression is expecting 9 features as input."
     ]
    }
   ],
   "source": [
    "price_1 = lr.predict([[2, 2258.0, 7, 9, 1969, 62.0, 47.0 ,9.0]])\n",
    "price_2 = lr.predict([[4, 847.0, 25, 26, 2018, 124.0,71.0,16.0]])\n",
    "\n",
    "print(price_1)\n",
    "print(price_2)\n",
    "# price_1_orig = 140000, price_2_orig = 105000"
   ]
  },
  {
   "cell_type": "code",
   "execution_count": 33,
   "id": "a61735e6",
   "metadata": {},
   "outputs": [],
   "source": [
    "# побудувити таблицю з результатами \n",
    "table = pd.DataFrame({'пропозиція 1: ': price_1, 'пропозиція 2: ': price_2}).astype('int32')"
   ]
  },
  {
   "cell_type": "code",
   "execution_count": 34,
   "id": "398bce91",
   "metadata": {
    "scrolled": false
   },
   "outputs": [
    {
     "data": {
      "text/html": [
       "<div>\n",
       "<style scoped>\n",
       "    .dataframe tbody tr th:only-of-type {\n",
       "        vertical-align: middle;\n",
       "    }\n",
       "\n",
       "    .dataframe tbody tr th {\n",
       "        vertical-align: top;\n",
       "    }\n",
       "\n",
       "    .dataframe thead th {\n",
       "        text-align: right;\n",
       "    }\n",
       "</style>\n",
       "<table border=\"1\" class=\"dataframe\">\n",
       "  <thead>\n",
       "    <tr style=\"text-align: right;\">\n",
       "      <th></th>\n",
       "      <th>пропозиція 1:</th>\n",
       "      <th>пропозиція 2:</th>\n",
       "    </tr>\n",
       "  </thead>\n",
       "  <tbody>\n",
       "    <tr>\n",
       "      <th>0</th>\n",
       "      <td>229570</td>\n",
       "      <td>143095</td>\n",
       "    </tr>\n",
       "  </tbody>\n",
       "</table>\n",
       "</div>"
      ],
      "text/plain": [
       "   пропозиція 1:   пропозиція 2: \n",
       "0          229570          143095"
      ]
     },
     "execution_count": 34,
     "metadata": {},
     "output_type": "execute_result"
    }
   ],
   "source": [
    "table"
   ]
  },
  {
   "cell_type": "markdown",
   "id": "7aae95f2",
   "metadata": {},
   "source": [
    "## МЕТОДИ ПОКРАЩАННЯ ПРОГНОЗУ"
   ]
  },
  {
   "cell_type": "code",
   "execution_count": 35,
   "id": "4f58602e",
   "metadata": {},
   "outputs": [
    {
     "data": {
      "text/html": [
       "<div>\n",
       "<style scoped>\n",
       "    .dataframe tbody tr th:only-of-type {\n",
       "        vertical-align: middle;\n",
       "    }\n",
       "\n",
       "    .dataframe tbody tr th {\n",
       "        vertical-align: top;\n",
       "    }\n",
       "\n",
       "    .dataframe thead th {\n",
       "        text-align: right;\n",
       "    }\n",
       "</style>\n",
       "<table border=\"1\" class=\"dataframe\">\n",
       "  <thead>\n",
       "    <tr style=\"text-align: right;\">\n",
       "      <th></th>\n",
       "      <th>Ціна</th>\n",
       "      <th>Кількість кімнат</th>\n",
       "      <th>Ціна за метр кв.</th>\n",
       "      <th>Поверх</th>\n",
       "      <th>Кількість поверхів</th>\n",
       "      <th>Рік побудови</th>\n",
       "      <th>Загальна площа</th>\n",
       "      <th>Житлова площа</th>\n",
       "      <th>Площа кухні</th>\n",
       "    </tr>\n",
       "  </thead>\n",
       "  <tbody>\n",
       "    <tr>\n",
       "      <th>0</th>\n",
       "      <td>175000.0</td>\n",
       "      <td>3</td>\n",
       "      <td>1786.0</td>\n",
       "      <td>25</td>\n",
       "      <td>26</td>\n",
       "      <td>2010</td>\n",
       "      <td>98.0</td>\n",
       "      <td>37.0</td>\n",
       "      <td>14.0</td>\n",
       "    </tr>\n",
       "    <tr>\n",
       "      <th>1</th>\n",
       "      <td>30970.0</td>\n",
       "      <td>1</td>\n",
       "      <td>1106.0</td>\n",
       "      <td>12</td>\n",
       "      <td>13</td>\n",
       "      <td>2013</td>\n",
       "      <td>28.0</td>\n",
       "      <td>13.0</td>\n",
       "      <td>5.0</td>\n",
       "    </tr>\n",
       "    <tr>\n",
       "      <th>2</th>\n",
       "      <td>82000.0</td>\n",
       "      <td>2</td>\n",
       "      <td>1281.0</td>\n",
       "      <td>18</td>\n",
       "      <td>26</td>\n",
       "      <td>2010</td>\n",
       "      <td>64.0</td>\n",
       "      <td>37.0</td>\n",
       "      <td>14.0</td>\n",
       "    </tr>\n",
       "    <tr>\n",
       "      <th>3</th>\n",
       "      <td>168535.7</td>\n",
       "      <td>3</td>\n",
       "      <td>1872.6</td>\n",
       "      <td>4</td>\n",
       "      <td>9</td>\n",
       "      <td>1966</td>\n",
       "      <td>90.0</td>\n",
       "      <td>45.0</td>\n",
       "      <td>10.0</td>\n",
       "    </tr>\n",
       "    <tr>\n",
       "      <th>4</th>\n",
       "      <td>4500000.0</td>\n",
       "      <td>4</td>\n",
       "      <td>14610.0</td>\n",
       "      <td>18</td>\n",
       "      <td>21</td>\n",
       "      <td>2011</td>\n",
       "      <td>308.0</td>\n",
       "      <td>37.0</td>\n",
       "      <td>14.0</td>\n",
       "    </tr>\n",
       "  </tbody>\n",
       "</table>\n",
       "</div>"
      ],
      "text/plain": [
       "        Ціна  Кількість кімнат  Ціна за метр кв.  Поверх  Кількість поверхів  \\\n",
       "0   175000.0                 3            1786.0      25                  26   \n",
       "1    30970.0                 1            1106.0      12                  13   \n",
       "2    82000.0                 2            1281.0      18                  26   \n",
       "3   168535.7                 3            1872.6       4                   9   \n",
       "4  4500000.0                 4           14610.0      18                  21   \n",
       "\n",
       "   Рік побудови  Загальна площа  Житлова площа  Площа кухні  \n",
       "0          2010            98.0           37.0         14.0  \n",
       "1          2013            28.0           13.0          5.0  \n",
       "2          2010            64.0           37.0         14.0  \n",
       "3          1966            90.0           45.0         10.0  \n",
       "4          2011           308.0           37.0         14.0  "
      ]
     },
     "execution_count": 35,
     "metadata": {},
     "output_type": "execute_result"
    }
   ],
   "source": [
    "apparts.head()"
   ]
  },
  {
   "cell_type": "markdown",
   "id": "7b536fec",
   "metadata": {
    "heading_collapsed": true
   },
   "source": [
    "### 1. Регулярізація"
   ]
  },
  {
   "cell_type": "code",
   "execution_count": 36,
   "id": "46b4b313",
   "metadata": {
    "hidden": true
   },
   "outputs": [],
   "source": [
    "from sklearn.linear_model import Ridge"
   ]
  },
  {
   "cell_type": "code",
   "execution_count": 60,
   "id": "7b0de561",
   "metadata": {
    "hidden": true
   },
   "outputs": [],
   "source": [
    "ridge = Ridge(alpha=1500000000, fit_intercept=False)"
   ]
  },
  {
   "cell_type": "code",
   "execution_count": 61,
   "id": "b1763217",
   "metadata": {
    "hidden": true
   },
   "outputs": [
    {
     "data": {
      "text/plain": [
       "Ridge(alpha=1500000000, fit_intercept=False)"
      ]
     },
     "execution_count": 61,
     "metadata": {},
     "output_type": "execute_result"
    }
   ],
   "source": [
    "ridge.fit(props_train, prices_train)"
   ]
  },
  {
   "cell_type": "code",
   "execution_count": 62,
   "id": "c3053475",
   "metadata": {
    "hidden": true
   },
   "outputs": [],
   "source": [
    "prices_predict = lr.predict(props_test)"
   ]
  },
  {
   "cell_type": "code",
   "execution_count": 63,
   "id": "2b0ae09a",
   "metadata": {
    "hidden": true,
    "scrolled": true
   },
   "outputs": [
    {
     "name": "stdout",
     "output_type": "stream",
     "text": [
      "0.44553416600458917\n",
      "0.9888813992258007\n"
     ]
    }
   ],
   "source": [
    "print(ridge.score(props_train, prices_train))\n",
    "print(ridge.score(props_test, prices_test))"
   ]
  },
  {
   "cell_type": "code",
   "execution_count": 64,
   "id": "7ff3a8e5",
   "metadata": {
    "hidden": true
   },
   "outputs": [
    {
     "data": {
      "text/plain": [
       "array([4.88902086e-02, 9.89861280e+01, 8.95503410e-02, 3.25815522e-02,\n",
       "       8.12370751e-01, 4.27017411e+00, 1.23600720e+00, 2.00882352e-01])"
      ]
     },
     "execution_count": 64,
     "metadata": {},
     "output_type": "execute_result"
    }
   ],
   "source": [
    "ridge.coef_"
   ]
  },
  {
   "cell_type": "code",
   "execution_count": 65,
   "id": "3fb1cbba",
   "metadata": {
    "hidden": true
   },
   "outputs": [],
   "source": [
    "prices_predict = ridge.predict(props_test)"
   ]
  },
  {
   "cell_type": "code",
   "execution_count": 66,
   "id": "11d25a4c",
   "metadata": {
    "hidden": true
   },
   "outputs": [
    {
     "data": {
      "text/html": [
       "<div>\n",
       "<style scoped>\n",
       "    .dataframe tbody tr th:only-of-type {\n",
       "        vertical-align: middle;\n",
       "    }\n",
       "\n",
       "    .dataframe tbody tr th {\n",
       "        vertical-align: top;\n",
       "    }\n",
       "\n",
       "    .dataframe thead th {\n",
       "        text-align: right;\n",
       "    }\n",
       "</style>\n",
       "<table border=\"1\" class=\"dataframe\">\n",
       "  <thead>\n",
       "    <tr style=\"text-align: right;\">\n",
       "      <th></th>\n",
       "      <th>Реальні ціни</th>\n",
       "      <th>Розраховані ціни</th>\n",
       "    </tr>\n",
       "  </thead>\n",
       "  <tbody>\n",
       "    <tr>\n",
       "      <th>326</th>\n",
       "      <td>90900</td>\n",
       "      <td>174933</td>\n",
       "    </tr>\n",
       "    <tr>\n",
       "      <th>519</th>\n",
       "      <td>56000</td>\n",
       "      <td>86213</td>\n",
       "    </tr>\n",
       "    <tr>\n",
       "      <th>580</th>\n",
       "      <td>161000</td>\n",
       "      <td>181136</td>\n",
       "    </tr>\n",
       "    <tr>\n",
       "      <th>33</th>\n",
       "      <td>170000</td>\n",
       "      <td>173867</td>\n",
       "    </tr>\n",
       "    <tr>\n",
       "      <th>570</th>\n",
       "      <td>70000</td>\n",
       "      <td>127869</td>\n",
       "    </tr>\n",
       "    <tr>\n",
       "      <th>436</th>\n",
       "      <td>240000</td>\n",
       "      <td>244448</td>\n",
       "    </tr>\n",
       "    <tr>\n",
       "      <th>65</th>\n",
       "      <td>43100</td>\n",
       "      <td>139384</td>\n",
       "    </tr>\n",
       "    <tr>\n",
       "      <th>109</th>\n",
       "      <td>49500</td>\n",
       "      <td>127438</td>\n",
       "    </tr>\n",
       "    <tr>\n",
       "      <th>254</th>\n",
       "      <td>122000</td>\n",
       "      <td>168172</td>\n",
       "    </tr>\n",
       "    <tr>\n",
       "      <th>621</th>\n",
       "      <td>61000</td>\n",
       "      <td>174309</td>\n",
       "    </tr>\n",
       "  </tbody>\n",
       "</table>\n",
       "</div>"
      ],
      "text/plain": [
       "     Реальні ціни  Розраховані ціни\n",
       "326         90900            174933\n",
       "519         56000             86213\n",
       "580        161000            181136\n",
       "33         170000            173867\n",
       "570         70000            127869\n",
       "436        240000            244448\n",
       "65          43100            139384\n",
       "109         49500            127438\n",
       "254        122000            168172\n",
       "621         61000            174309"
      ]
     },
     "execution_count": 66,
     "metadata": {},
     "output_type": "execute_result"
    }
   ],
   "source": [
    "pd.DataFrame({\"Реальні ціни\": prices_test[:10],\n",
    "             \"Розраховані ціни\": prices_predict[:10]}).astype(\"int32\")"
   ]
  },
  {
   "cell_type": "code",
   "execution_count": 67,
   "id": "9dac4846",
   "metadata": {
    "hidden": true,
    "scrolled": true
   },
   "outputs": [
    {
     "name": "stdout",
     "output_type": "stream",
     "text": [
      "[225435.90396308]\n",
      "[86104.36824503]\n"
     ]
    },
    {
     "name": "stderr",
     "output_type": "stream",
     "text": [
      "/Users/sergey/opt/miniconda3/envs/p39jupyter/lib/python3.9/site-packages/sklearn/base.py:450: UserWarning: X does not have valid feature names, but Ridge was fitted with feature names\n",
      "  warnings.warn(\n",
      "/Users/sergey/opt/miniconda3/envs/p39jupyter/lib/python3.9/site-packages/sklearn/base.py:450: UserWarning: X does not have valid feature names, but Ridge was fitted with feature names\n",
      "  warnings.warn(\n"
     ]
    }
   ],
   "source": [
    "price_1 = ridge.predict([[2, 2258.0, 7, 9, 1969, 62.0, 47.0 ,9.0]])\n",
    "price_2 = ridge.predict([[4, 847.0, 25, 26, 2018, 124.0,71.0,16.0]])\n",
    "\n",
    "# price_1 = lr.predict([[2, 7,   9, 1969, 47.0 ,9.0, 62-47-9]])\n",
    "# price_2 = lr.predict([[4, 25, 26, 2018, 71.0,16.0, 124-71-16]])\n",
    "\n",
    "print(price_1)\n",
    "print(price_2)\n",
    "# price_1_orig = 140000, price_2_orig = 105000"
   ]
  },
  {
   "cell_type": "code",
   "execution_count": null,
   "id": "b94d165a",
   "metadata": {
    "hidden": true
   },
   "outputs": [],
   "source": [
    "# побудувити таблицю з результатами \n",
    "table = pd.DataFrame({'пропозиція 1: ': price_1, 'пропозиція 2: ': price_2}).astype('int32')"
   ]
  },
  {
   "cell_type": "code",
   "execution_count": null,
   "id": "a8a80f43",
   "metadata": {
    "hidden": true,
    "scrolled": true
   },
   "outputs": [],
   "source": [
    "table"
   ]
  },
  {
   "cell_type": "markdown",
   "id": "9913f353",
   "metadata": {
    "heading_collapsed": true
   },
   "source": [
    "### 2. Масштабування ознак"
   ]
  },
  {
   "cell_type": "code",
   "execution_count": 68,
   "id": "543f3826",
   "metadata": {
    "hidden": true
   },
   "outputs": [],
   "source": [
    "from sklearn.preprocessing import StandardScaler"
   ]
  },
  {
   "cell_type": "code",
   "execution_count": 69,
   "id": "068d17c1",
   "metadata": {
    "hidden": true
   },
   "outputs": [],
   "source": [
    "scaler = StandardScaler()"
   ]
  },
  {
   "cell_type": "code",
   "execution_count": 70,
   "id": "54dd8e4c",
   "metadata": {
    "hidden": true
   },
   "outputs": [],
   "source": [
    "props_train_scaled = scaler.fit_transform(props_train)\n",
    "props_test_scaled = scaler.transform(props_test)"
   ]
  },
  {
   "cell_type": "code",
   "execution_count": 76,
   "id": "895bc216",
   "metadata": {
    "hidden": true
   },
   "outputs": [
    {
     "data": {
      "text/plain": [
       "Ridge(alpha=100000000, fit_intercept=False)"
      ]
     },
     "execution_count": 76,
     "metadata": {},
     "output_type": "execute_result"
    }
   ],
   "source": [
    "ridge = Ridge(alpha=100000000, fit_intercept=False)\n",
    "ridge.fit(props_train_scaled, prices_train)"
   ]
  },
  {
   "cell_type": "code",
   "execution_count": 77,
   "id": "5b034b01",
   "metadata": {
    "hidden": true
   },
   "outputs": [
    {
     "data": {
      "text/plain": [
       "array([0.87768552, 1.77386789, 0.21132728, 0.06274343, 0.1204233 ,\n",
       "       1.63955158, 0.96074353, 0.53998138])"
      ]
     },
     "execution_count": 77,
     "metadata": {},
     "output_type": "execute_result"
    }
   ],
   "source": [
    "ridge.coef_"
   ]
  },
  {
   "cell_type": "code",
   "execution_count": 78,
   "id": "f18565fc",
   "metadata": {
    "hidden": true
   },
   "outputs": [
    {
     "name": "stdout",
     "output_type": "stream",
     "text": [
      "-0.19912288971865233\n",
      "-0.00645227855664654\n"
     ]
    }
   ],
   "source": [
    "print(ridge.score(props_train.to_numpy(), prices_train))\n",
    "print(ridge.score(props_test.to_numpy(), prices_test))"
   ]
  },
  {
   "cell_type": "code",
   "execution_count": 79,
   "id": "ae7df9fc",
   "metadata": {
    "hidden": true
   },
   "outputs": [],
   "source": [
    "prices_predict = ridge.predict(props_test_scaled)"
   ]
  },
  {
   "cell_type": "code",
   "execution_count": 80,
   "id": "4c68464a",
   "metadata": {
    "hidden": true
   },
   "outputs": [
    {
     "data": {
      "text/html": [
       "<div>\n",
       "<style scoped>\n",
       "    .dataframe tbody tr th:only-of-type {\n",
       "        vertical-align: middle;\n",
       "    }\n",
       "\n",
       "    .dataframe tbody tr th {\n",
       "        vertical-align: top;\n",
       "    }\n",
       "\n",
       "    .dataframe thead th {\n",
       "        text-align: right;\n",
       "    }\n",
       "</style>\n",
       "<table border=\"1\" class=\"dataframe\">\n",
       "  <thead>\n",
       "    <tr style=\"text-align: right;\">\n",
       "      <th></th>\n",
       "      <th>Реальні ціни</th>\n",
       "      <th>Розраховані ціни</th>\n",
       "    </tr>\n",
       "  </thead>\n",
       "  <tbody>\n",
       "    <tr>\n",
       "      <th>326</th>\n",
       "      <td>90900</td>\n",
       "      <td>-2</td>\n",
       "    </tr>\n",
       "    <tr>\n",
       "      <th>519</th>\n",
       "      <td>56000</td>\n",
       "      <td>-1</td>\n",
       "    </tr>\n",
       "    <tr>\n",
       "      <th>580</th>\n",
       "      <td>161000</td>\n",
       "      <td>0</td>\n",
       "    </tr>\n",
       "    <tr>\n",
       "      <th>33</th>\n",
       "      <td>170000</td>\n",
       "      <td>2</td>\n",
       "    </tr>\n",
       "    <tr>\n",
       "      <th>570</th>\n",
       "      <td>70000</td>\n",
       "      <td>-2</td>\n",
       "    </tr>\n",
       "    <tr>\n",
       "      <th>436</th>\n",
       "      <td>240000</td>\n",
       "      <td>1</td>\n",
       "    </tr>\n",
       "    <tr>\n",
       "      <th>65</th>\n",
       "      <td>43100</td>\n",
       "      <td>-4</td>\n",
       "    </tr>\n",
       "    <tr>\n",
       "      <th>109</th>\n",
       "      <td>49500</td>\n",
       "      <td>-4</td>\n",
       "    </tr>\n",
       "    <tr>\n",
       "      <th>254</th>\n",
       "      <td>122000</td>\n",
       "      <td>-1</td>\n",
       "    </tr>\n",
       "    <tr>\n",
       "      <th>621</th>\n",
       "      <td>61000</td>\n",
       "      <td>-4</td>\n",
       "    </tr>\n",
       "  </tbody>\n",
       "</table>\n",
       "</div>"
      ],
      "text/plain": [
       "     Реальні ціни  Розраховані ціни\n",
       "326         90900                -2\n",
       "519         56000                -1\n",
       "580        161000                 0\n",
       "33         170000                 2\n",
       "570         70000                -2\n",
       "436        240000                 1\n",
       "65          43100                -4\n",
       "109         49500                -4\n",
       "254        122000                -1\n",
       "621         61000                -4"
      ]
     },
     "execution_count": 80,
     "metadata": {},
     "output_type": "execute_result"
    }
   ],
   "source": [
    "pd.DataFrame({\"Реальні ціни\": prices_test[:10],\n",
    "             \"Розраховані ціни\": prices_predict[:10]}).astype(\"int32\")"
   ]
  },
  {
   "cell_type": "code",
   "execution_count": null,
   "id": "7e0e9a1d",
   "metadata": {
    "hidden": true
   },
   "outputs": [],
   "source": [
    "# побудувити таблицю з результатами \n",
    "table = pd.DataFrame({'пропозиція 1: ': price_1, 'пропозиція 2: ': price_2}).astype('int32')"
   ]
  },
  {
   "cell_type": "code",
   "execution_count": null,
   "id": "379d3d05",
   "metadata": {
    "hidden": true,
    "scrolled": true
   },
   "outputs": [],
   "source": [
    "table"
   ]
  },
  {
   "cell_type": "markdown",
   "id": "936d2d47",
   "metadata": {
    "heading_collapsed": true
   },
   "source": [
    "### 3. Пшук та вилучення викидів"
   ]
  },
  {
   "cell_type": "code",
   "execution_count": 81,
   "id": "a8c2e96d",
   "metadata": {
    "hidden": true
   },
   "outputs": [
    {
     "data": {
      "text/html": [
       "<div>\n",
       "<style scoped>\n",
       "    .dataframe tbody tr th:only-of-type {\n",
       "        vertical-align: middle;\n",
       "    }\n",
       "\n",
       "    .dataframe tbody tr th {\n",
       "        vertical-align: top;\n",
       "    }\n",
       "\n",
       "    .dataframe thead th {\n",
       "        text-align: right;\n",
       "    }\n",
       "</style>\n",
       "<table border=\"1\" class=\"dataframe\">\n",
       "  <thead>\n",
       "    <tr style=\"text-align: right;\">\n",
       "      <th></th>\n",
       "      <th>Ціна</th>\n",
       "      <th>Кількість кімнат</th>\n",
       "      <th>Ціна за метр кв.</th>\n",
       "      <th>Поверх</th>\n",
       "      <th>Кількість поверхів</th>\n",
       "      <th>Рік побудови</th>\n",
       "      <th>Загальна площа</th>\n",
       "      <th>Житлова площа</th>\n",
       "      <th>Площа кухні</th>\n",
       "    </tr>\n",
       "  </thead>\n",
       "  <tbody>\n",
       "    <tr>\n",
       "      <th>count</th>\n",
       "      <td>7.260000e+02</td>\n",
       "      <td>726.000000</td>\n",
       "      <td>726.000000</td>\n",
       "      <td>726.000000</td>\n",
       "      <td>726.000000</td>\n",
       "      <td>726.000000</td>\n",
       "      <td>726.000000</td>\n",
       "      <td>726.000000</td>\n",
       "      <td>726.000000</td>\n",
       "    </tr>\n",
       "    <tr>\n",
       "      <th>mean</th>\n",
       "      <td>2.003523e+05</td>\n",
       "      <td>2.223140</td>\n",
       "      <td>2088.102342</td>\n",
       "      <td>9.557851</td>\n",
       "      <td>17.741047</td>\n",
       "      <td>2000.125344</td>\n",
       "      <td>78.506887</td>\n",
       "      <td>40.568871</td>\n",
       "      <td>15.362259</td>\n",
       "    </tr>\n",
       "    <tr>\n",
       "      <th>std</th>\n",
       "      <td>6.758112e+05</td>\n",
       "      <td>1.023753</td>\n",
       "      <td>5888.667842</td>\n",
       "      <td>6.802137</td>\n",
       "      <td>8.314285</td>\n",
       "      <td>24.072236</td>\n",
       "      <td>48.125604</td>\n",
       "      <td>25.381124</td>\n",
       "      <td>8.568726</td>\n",
       "    </tr>\n",
       "    <tr>\n",
       "      <th>min</th>\n",
       "      <td>1.009210e+04</td>\n",
       "      <td>1.000000</td>\n",
       "      <td>478.000000</td>\n",
       "      <td>1.000000</td>\n",
       "      <td>2.000000</td>\n",
       "      <td>1860.000000</td>\n",
       "      <td>15.000000</td>\n",
       "      <td>10.000000</td>\n",
       "      <td>3.000000</td>\n",
       "    </tr>\n",
       "    <tr>\n",
       "      <th>25%</th>\n",
       "      <td>6.500000e+04</td>\n",
       "      <td>1.000000</td>\n",
       "      <td>1148.250000</td>\n",
       "      <td>4.000000</td>\n",
       "      <td>9.000000</td>\n",
       "      <td>1997.000000</td>\n",
       "      <td>53.000000</td>\n",
       "      <td>30.000000</td>\n",
       "      <td>11.000000</td>\n",
       "    </tr>\n",
       "    <tr>\n",
       "      <th>50%</th>\n",
       "      <td>1.034500e+05</td>\n",
       "      <td>2.000000</td>\n",
       "      <td>1562.000000</td>\n",
       "      <td>8.000000</td>\n",
       "      <td>19.000000</td>\n",
       "      <td>2010.000000</td>\n",
       "      <td>68.500000</td>\n",
       "      <td>37.000000</td>\n",
       "      <td>14.000000</td>\n",
       "    </tr>\n",
       "    <tr>\n",
       "      <th>75%</th>\n",
       "      <td>1.700000e+05</td>\n",
       "      <td>3.000000</td>\n",
       "      <td>2181.250000</td>\n",
       "      <td>14.000000</td>\n",
       "      <td>25.000000</td>\n",
       "      <td>2015.000000</td>\n",
       "      <td>89.000000</td>\n",
       "      <td>43.000000</td>\n",
       "      <td>16.000000</td>\n",
       "    </tr>\n",
       "    <tr>\n",
       "      <th>max</th>\n",
       "      <td>1.570000e+07</td>\n",
       "      <td>7.000000</td>\n",
       "      <td>157000.000000</td>\n",
       "      <td>33.000000</td>\n",
       "      <td>47.000000</td>\n",
       "      <td>2021.000000</td>\n",
       "      <td>520.000000</td>\n",
       "      <td>320.000000</td>\n",
       "      <td>78.000000</td>\n",
       "    </tr>\n",
       "  </tbody>\n",
       "</table>\n",
       "</div>"
      ],
      "text/plain": [
       "               Ціна  Кількість кімнат  Ціна за метр кв.      Поверх  \\\n",
       "count  7.260000e+02        726.000000        726.000000  726.000000   \n",
       "mean   2.003523e+05          2.223140       2088.102342    9.557851   \n",
       "std    6.758112e+05          1.023753       5888.667842    6.802137   \n",
       "min    1.009210e+04          1.000000        478.000000    1.000000   \n",
       "25%    6.500000e+04          1.000000       1148.250000    4.000000   \n",
       "50%    1.034500e+05          2.000000       1562.000000    8.000000   \n",
       "75%    1.700000e+05          3.000000       2181.250000   14.000000   \n",
       "max    1.570000e+07          7.000000     157000.000000   33.000000   \n",
       "\n",
       "       Кількість поверхів  Рік побудови  Загальна площа  Житлова площа  \\\n",
       "count          726.000000    726.000000      726.000000     726.000000   \n",
       "mean            17.741047   2000.125344       78.506887      40.568871   \n",
       "std              8.314285     24.072236       48.125604      25.381124   \n",
       "min              2.000000   1860.000000       15.000000      10.000000   \n",
       "25%              9.000000   1997.000000       53.000000      30.000000   \n",
       "50%             19.000000   2010.000000       68.500000      37.000000   \n",
       "75%             25.000000   2015.000000       89.000000      43.000000   \n",
       "max             47.000000   2021.000000      520.000000     320.000000   \n",
       "\n",
       "       Площа кухні  \n",
       "count   726.000000  \n",
       "mean     15.362259  \n",
       "std       8.568726  \n",
       "min       3.000000  \n",
       "25%      11.000000  \n",
       "50%      14.000000  \n",
       "75%      16.000000  \n",
       "max      78.000000  "
      ]
     },
     "execution_count": 81,
     "metadata": {},
     "output_type": "execute_result"
    }
   ],
   "source": [
    "apparts.describe()"
   ]
  },
  {
   "cell_type": "code",
   "execution_count": 82,
   "id": "37b1b012",
   "metadata": {
    "hidden": true
   },
   "outputs": [
    {
     "data": {
      "image/png": "[encoded data removed]",
      "text/plain": [
       "<Figure size 504x504 with 1 Axes>"
      ]
     },
     "metadata": {
      "needs_background": "light"
     },
     "output_type": "display_data"
    }
   ],
   "source": [
    "plt.figure(figsize=(7,7))\n",
    "plt.plot(apparts.iloc[:, 0], '.')\n",
    "plt.show()"
   ]
  },
  {
   "cell_type": "code",
   "execution_count": 83,
   "id": "3fa3e801",
   "metadata": {
    "hidden": true
   },
   "outputs": [
    {
     "data": {
      "text/html": [
       "<div>\n",
       "<style scoped>\n",
       "    .dataframe tbody tr th:only-of-type {\n",
       "        vertical-align: middle;\n",
       "    }\n",
       "\n",
       "    .dataframe tbody tr th {\n",
       "        vertical-align: top;\n",
       "    }\n",
       "\n",
       "    .dataframe thead th {\n",
       "        text-align: right;\n",
       "    }\n",
       "</style>\n",
       "<table border=\"1\" class=\"dataframe\">\n",
       "  <thead>\n",
       "    <tr style=\"text-align: right;\">\n",
       "      <th></th>\n",
       "      <th>Ціна</th>\n",
       "      <th>Кількість кімнат</th>\n",
       "      <th>Ціна за метр кв.</th>\n",
       "      <th>Поверх</th>\n",
       "      <th>Кількість поверхів</th>\n",
       "      <th>Рік побудови</th>\n",
       "      <th>Загальна площа</th>\n",
       "      <th>Житлова площа</th>\n",
       "      <th>Площа кухні</th>\n",
       "    </tr>\n",
       "  </thead>\n",
       "  <tbody>\n",
       "    <tr>\n",
       "      <th>4</th>\n",
       "      <td>4500000.0</td>\n",
       "      <td>4</td>\n",
       "      <td>14610.0</td>\n",
       "      <td>18</td>\n",
       "      <td>21</td>\n",
       "      <td>2011</td>\n",
       "      <td>308.0</td>\n",
       "      <td>37.0</td>\n",
       "      <td>14.0</td>\n",
       "    </tr>\n",
       "    <tr>\n",
       "      <th>28</th>\n",
       "      <td>4500000.0</td>\n",
       "      <td>4</td>\n",
       "      <td>14610.0</td>\n",
       "      <td>18</td>\n",
       "      <td>21</td>\n",
       "      <td>2011</td>\n",
       "      <td>308.0</td>\n",
       "      <td>37.0</td>\n",
       "      <td>14.0</td>\n",
       "    </tr>\n",
       "    <tr>\n",
       "      <th>122</th>\n",
       "      <td>3600000.0</td>\n",
       "      <td>6</td>\n",
       "      <td>8000.0</td>\n",
       "      <td>25</td>\n",
       "      <td>25</td>\n",
       "      <td>2011</td>\n",
       "      <td>450.0</td>\n",
       "      <td>288.0</td>\n",
       "      <td>45.0</td>\n",
       "    </tr>\n",
       "    <tr>\n",
       "      <th>327</th>\n",
       "      <td>2100000.0</td>\n",
       "      <td>3</td>\n",
       "      <td>7292.0</td>\n",
       "      <td>7</td>\n",
       "      <td>11</td>\n",
       "      <td>2007</td>\n",
       "      <td>288.0</td>\n",
       "      <td>150.0</td>\n",
       "      <td>35.0</td>\n",
       "    </tr>\n",
       "    <tr>\n",
       "      <th>363</th>\n",
       "      <td>1035900.0</td>\n",
       "      <td>5</td>\n",
       "      <td>4504.0</td>\n",
       "      <td>4</td>\n",
       "      <td>8</td>\n",
       "      <td>2016</td>\n",
       "      <td>230.0</td>\n",
       "      <td>75.0</td>\n",
       "      <td>78.0</td>\n",
       "    </tr>\n",
       "    <tr>\n",
       "      <th>402</th>\n",
       "      <td>3200000.0</td>\n",
       "      <td>5</td>\n",
       "      <td>9143.0</td>\n",
       "      <td>5</td>\n",
       "      <td>5</td>\n",
       "      <td>2010</td>\n",
       "      <td>350.0</td>\n",
       "      <td>37.0</td>\n",
       "      <td>14.0</td>\n",
       "    </tr>\n",
       "    <tr>\n",
       "      <th>527</th>\n",
       "      <td>15700000.0</td>\n",
       "      <td>3</td>\n",
       "      <td>157000.0</td>\n",
       "      <td>2</td>\n",
       "      <td>4</td>\n",
       "      <td>1917</td>\n",
       "      <td>100.0</td>\n",
       "      <td>76.0</td>\n",
       "      <td>12.0</td>\n",
       "    </tr>\n",
       "    <tr>\n",
       "      <th>548</th>\n",
       "      <td>1010000.0</td>\n",
       "      <td>4</td>\n",
       "      <td>5674.0</td>\n",
       "      <td>23</td>\n",
       "      <td>26</td>\n",
       "      <td>2017</td>\n",
       "      <td>178.0</td>\n",
       "      <td>92.0</td>\n",
       "      <td>22.0</td>\n",
       "    </tr>\n",
       "    <tr>\n",
       "      <th>582</th>\n",
       "      <td>1500000.0</td>\n",
       "      <td>5</td>\n",
       "      <td>5000.0</td>\n",
       "      <td>8</td>\n",
       "      <td>19</td>\n",
       "      <td>2010</td>\n",
       "      <td>300.0</td>\n",
       "      <td>37.0</td>\n",
       "      <td>14.0</td>\n",
       "    </tr>\n",
       "    <tr>\n",
       "      <th>652</th>\n",
       "      <td>1976000.0</td>\n",
       "      <td>5</td>\n",
       "      <td>3800.0</td>\n",
       "      <td>17</td>\n",
       "      <td>25</td>\n",
       "      <td>2019</td>\n",
       "      <td>520.0</td>\n",
       "      <td>37.0</td>\n",
       "      <td>20.0</td>\n",
       "    </tr>\n",
       "    <tr>\n",
       "      <th>710</th>\n",
       "      <td>3210000.0</td>\n",
       "      <td>5</td>\n",
       "      <td>8025.0</td>\n",
       "      <td>10</td>\n",
       "      <td>10</td>\n",
       "      <td>1961</td>\n",
       "      <td>400.0</td>\n",
       "      <td>250.0</td>\n",
       "      <td>50.0</td>\n",
       "    </tr>\n",
       "  </tbody>\n",
       "</table>\n",
       "</div>"
      ],
      "text/plain": [
       "           Ціна  Кількість кімнат  Ціна за метр кв.  Поверх  \\\n",
       "4     4500000.0                 4           14610.0      18   \n",
       "28    4500000.0                 4           14610.0      18   \n",
       "122   3600000.0                 6            8000.0      25   \n",
       "327   2100000.0                 3            7292.0       7   \n",
       "363   1035900.0                 5            4504.0       4   \n",
       "402   3200000.0                 5            9143.0       5   \n",
       "527  15700000.0                 3          157000.0       2   \n",
       "548   1010000.0                 4            5674.0      23   \n",
       "582   1500000.0                 5            5000.0       8   \n",
       "652   1976000.0                 5            3800.0      17   \n",
       "710   3210000.0                 5            8025.0      10   \n",
       "\n",
       "     Кількість поверхів  Рік побудови  Загальна площа  Житлова площа  \\\n",
       "4                    21          2011           308.0           37.0   \n",
       "28                   21          2011           308.0           37.0   \n",
       "122                  25          2011           450.0          288.0   \n",
       "327                  11          2007           288.0          150.0   \n",
       "363                   8          2016           230.0           75.0   \n",
       "402                   5          2010           350.0           37.0   \n",
       "527                   4          1917           100.0           76.0   \n",
       "548                  26          2017           178.0           92.0   \n",
       "582                  19          2010           300.0           37.0   \n",
       "652                  25          2019           520.0           37.0   \n",
       "710                  10          1961           400.0          250.0   \n",
       "\n",
       "     Площа кухні  \n",
       "4           14.0  \n",
       "28          14.0  \n",
       "122         45.0  \n",
       "327         35.0  \n",
       "363         78.0  \n",
       "402         14.0  \n",
       "527         12.0  \n",
       "548         22.0  \n",
       "582         14.0  \n",
       "652         20.0  \n",
       "710         50.0  "
      ]
     },
     "execution_count": 83,
     "metadata": {},
     "output_type": "execute_result"
    }
   ],
   "source": [
    "apparts[apparts['Ціна'] > 1.0e6]"
   ]
  },
  {
   "cell_type": "code",
   "execution_count": 84,
   "id": "c6a67ce7",
   "metadata": {
    "hidden": true
   },
   "outputs": [],
   "source": [
    "apparts = apparts.drop_duplicates()"
   ]
  },
  {
   "cell_type": "code",
   "execution_count": 85,
   "id": "47c09750",
   "metadata": {
    "hidden": true
   },
   "outputs": [],
   "source": [
    "cond = apparts['Ціна'] < 1000000\n",
    "apparts = apparts[cond]"
   ]
  },
  {
   "cell_type": "code",
   "execution_count": 86,
   "id": "54860839",
   "metadata": {
    "hidden": true
   },
   "outputs": [
    {
     "data": {
      "text/plain": [
       "count       666.000000\n",
       "mean     144202.196396\n",
       "std      132276.374298\n",
       "min       10092.100000\n",
       "25%       64985.000000\n",
       "50%      100428.550000\n",
       "75%      163750.000000\n",
       "max      980000.000000\n",
       "Name: Ціна, dtype: float64"
      ]
     },
     "execution_count": 86,
     "metadata": {},
     "output_type": "execute_result"
    }
   ],
   "source": [
    "apparts['Ціна'].describe()"
   ]
  },
  {
   "cell_type": "markdown",
   "id": "7c3d1466",
   "metadata": {
    "heading_collapsed": true
   },
   "source": [
    "### 4. Збагачення даних"
   ]
  },
  {
   "cell_type": "code",
   "execution_count": 87,
   "id": "a96be5ac",
   "metadata": {
    "hidden": true
   },
   "outputs": [
    {
     "data": {
      "text/html": [
       "<div>\n",
       "<style scoped>\n",
       "    .dataframe tbody tr th:only-of-type {\n",
       "        vertical-align: middle;\n",
       "    }\n",
       "\n",
       "    .dataframe tbody tr th {\n",
       "        vertical-align: top;\n",
       "    }\n",
       "\n",
       "    .dataframe thead th {\n",
       "        text-align: right;\n",
       "    }\n",
       "</style>\n",
       "<table border=\"1\" class=\"dataframe\">\n",
       "  <thead>\n",
       "    <tr style=\"text-align: right;\">\n",
       "      <th></th>\n",
       "      <th>Ціна</th>\n",
       "      <th>Кількість кімнат</th>\n",
       "      <th>Ціна за метр кв.</th>\n",
       "      <th>Поверх</th>\n",
       "      <th>Кількість поверхів</th>\n",
       "      <th>Рік побудови</th>\n",
       "      <th>Загальна площа</th>\n",
       "      <th>Житлова площа</th>\n",
       "      <th>Площа кухні</th>\n",
       "    </tr>\n",
       "  </thead>\n",
       "  <tbody>\n",
       "    <tr>\n",
       "      <th>0</th>\n",
       "      <td>175000.0</td>\n",
       "      <td>3</td>\n",
       "      <td>1786.0</td>\n",
       "      <td>25</td>\n",
       "      <td>26</td>\n",
       "      <td>2010</td>\n",
       "      <td>98.0</td>\n",
       "      <td>37.0</td>\n",
       "      <td>14.0</td>\n",
       "    </tr>\n",
       "    <tr>\n",
       "      <th>1</th>\n",
       "      <td>30970.0</td>\n",
       "      <td>1</td>\n",
       "      <td>1106.0</td>\n",
       "      <td>12</td>\n",
       "      <td>13</td>\n",
       "      <td>2013</td>\n",
       "      <td>28.0</td>\n",
       "      <td>13.0</td>\n",
       "      <td>5.0</td>\n",
       "    </tr>\n",
       "    <tr>\n",
       "      <th>2</th>\n",
       "      <td>82000.0</td>\n",
       "      <td>2</td>\n",
       "      <td>1281.0</td>\n",
       "      <td>18</td>\n",
       "      <td>26</td>\n",
       "      <td>2010</td>\n",
       "      <td>64.0</td>\n",
       "      <td>37.0</td>\n",
       "      <td>14.0</td>\n",
       "    </tr>\n",
       "    <tr>\n",
       "      <th>3</th>\n",
       "      <td>168535.7</td>\n",
       "      <td>3</td>\n",
       "      <td>1872.6</td>\n",
       "      <td>4</td>\n",
       "      <td>9</td>\n",
       "      <td>1966</td>\n",
       "      <td>90.0</td>\n",
       "      <td>45.0</td>\n",
       "      <td>10.0</td>\n",
       "    </tr>\n",
       "    <tr>\n",
       "      <th>5</th>\n",
       "      <td>135000.0</td>\n",
       "      <td>2</td>\n",
       "      <td>2077.0</td>\n",
       "      <td>16</td>\n",
       "      <td>23</td>\n",
       "      <td>2012</td>\n",
       "      <td>65.0</td>\n",
       "      <td>25.0</td>\n",
       "      <td>18.0</td>\n",
       "    </tr>\n",
       "  </tbody>\n",
       "</table>\n",
       "</div>"
      ],
      "text/plain": [
       "       Ціна  Кількість кімнат  Ціна за метр кв.  Поверх  Кількість поверхів  \\\n",
       "0  175000.0                 3            1786.0      25                  26   \n",
       "1   30970.0                 1            1106.0      12                  13   \n",
       "2   82000.0                 2            1281.0      18                  26   \n",
       "3  168535.7                 3            1872.6       4                   9   \n",
       "5  135000.0                 2            2077.0      16                  23   \n",
       "\n",
       "   Рік побудови  Загальна площа  Житлова площа  Площа кухні  \n",
       "0          2010            98.0           37.0         14.0  \n",
       "1          2013            28.0           13.0          5.0  \n",
       "2          2010            64.0           37.0         14.0  \n",
       "3          1966            90.0           45.0         10.0  \n",
       "5          2012            65.0           25.0         18.0  "
      ]
     },
     "execution_count": 87,
     "metadata": {},
     "output_type": "execute_result"
    }
   ],
   "source": [
    "apparts.head()"
   ]
  },
  {
   "cell_type": "code",
   "execution_count": null,
   "id": "ac6ab1e7",
   "metadata": {
    "hidden": true
   },
   "outputs": [],
   "source": [
    "apparts.head()"
   ]
  },
  {
   "cell_type": "code",
   "execution_count": 88,
   "id": "7fb77159",
   "metadata": {
    "hidden": true
   },
   "outputs": [],
   "source": [
    "apparts['Нежитлова площа'] = apparts['Загальна площа'] - apparts['Житлова площа'] - apparts['Площа кухні']"
   ]
  },
  {
   "cell_type": "code",
   "execution_count": 91,
   "id": "9b12f155",
   "metadata": {
    "hidden": true
   },
   "outputs": [
    {
     "data": {
      "text/html": [
       "<div>\n",
       "<style scoped>\n",
       "    .dataframe tbody tr th:only-of-type {\n",
       "        vertical-align: middle;\n",
       "    }\n",
       "\n",
       "    .dataframe tbody tr th {\n",
       "        vertical-align: top;\n",
       "    }\n",
       "\n",
       "    .dataframe thead th {\n",
       "        text-align: right;\n",
       "    }\n",
       "</style>\n",
       "<table border=\"1\" class=\"dataframe\">\n",
       "  <thead>\n",
       "    <tr style=\"text-align: right;\">\n",
       "      <th></th>\n",
       "      <th>Ціна</th>\n",
       "      <th>Кількість кімнат</th>\n",
       "      <th>Ціна за метр кв.</th>\n",
       "      <th>Поверх</th>\n",
       "      <th>Кількість поверхів</th>\n",
       "      <th>Рік побудови</th>\n",
       "      <th>Загальна площа</th>\n",
       "      <th>Житлова площа</th>\n",
       "      <th>Площа кухні</th>\n",
       "      <th>Нежитлова площа</th>\n",
       "    </tr>\n",
       "  </thead>\n",
       "  <tbody>\n",
       "    <tr>\n",
       "      <th>0</th>\n",
       "      <td>175000.0</td>\n",
       "      <td>3</td>\n",
       "      <td>1786.0</td>\n",
       "      <td>25</td>\n",
       "      <td>26</td>\n",
       "      <td>2010</td>\n",
       "      <td>98.0</td>\n",
       "      <td>37.0</td>\n",
       "      <td>14.0</td>\n",
       "      <td>47.0</td>\n",
       "    </tr>\n",
       "    <tr>\n",
       "      <th>1</th>\n",
       "      <td>30970.0</td>\n",
       "      <td>1</td>\n",
       "      <td>1106.0</td>\n",
       "      <td>12</td>\n",
       "      <td>13</td>\n",
       "      <td>2013</td>\n",
       "      <td>28.0</td>\n",
       "      <td>13.0</td>\n",
       "      <td>5.0</td>\n",
       "      <td>10.0</td>\n",
       "    </tr>\n",
       "    <tr>\n",
       "      <th>2</th>\n",
       "      <td>82000.0</td>\n",
       "      <td>2</td>\n",
       "      <td>1281.0</td>\n",
       "      <td>18</td>\n",
       "      <td>26</td>\n",
       "      <td>2010</td>\n",
       "      <td>64.0</td>\n",
       "      <td>37.0</td>\n",
       "      <td>14.0</td>\n",
       "      <td>13.0</td>\n",
       "    </tr>\n",
       "  </tbody>\n",
       "</table>\n",
       "</div>"
      ],
      "text/plain": [
       "       Ціна  Кількість кімнат  Ціна за метр кв.  Поверх  Кількість поверхів  \\\n",
       "0  175000.0                 3            1786.0      25                  26   \n",
       "1   30970.0                 1            1106.0      12                  13   \n",
       "2   82000.0                 2            1281.0      18                  26   \n",
       "\n",
       "   Рік побудови  Загальна площа  Житлова площа  Площа кухні  Нежитлова площа  \n",
       "0          2010            98.0           37.0         14.0             47.0  \n",
       "1          2013            28.0           13.0          5.0             10.0  \n",
       "2          2010            64.0           37.0         14.0             13.0  "
      ]
     },
     "execution_count": 91,
     "metadata": {},
     "output_type": "execute_result"
    }
   ],
   "source": [
    "apparts.head(3)"
   ]
  },
  {
   "cell_type": "code",
   "execution_count": 90,
   "id": "3da96253",
   "metadata": {
    "hidden": true
   },
   "outputs": [
    {
     "data": {
      "text/plain": [
       "Index(['Ціна', 'Кількість кімнат', 'Ціна за метр кв.', 'Поверх',\n",
       "       'Кількість поверхів', 'Рік побудови', 'Загальна площа', 'Житлова площа',\n",
       "       'Площа кухні', 'Нежитлова площа'],\n",
       "      dtype='object')"
      ]
     },
     "execution_count": 90,
     "metadata": {},
     "output_type": "execute_result"
    }
   ],
   "source": [
    "apparts.columns"
   ]
  },
  {
   "cell_type": "code",
   "execution_count": null,
   "id": "6c26ef65",
   "metadata": {
    "hidden": true
   },
   "outputs": [],
   "source": [
    "apparts = apparts.drop(['Ціна за метр кв.', 'Загальна площа'], axis=1)"
   ]
  },
  {
   "cell_type": "code",
   "execution_count": 92,
   "id": "6ce8c1d6",
   "metadata": {
    "hidden": true
   },
   "outputs": [
    {
     "data": {
      "text/html": [
       "<div>\n",
       "<style scoped>\n",
       "    .dataframe tbody tr th:only-of-type {\n",
       "        vertical-align: middle;\n",
       "    }\n",
       "\n",
       "    .dataframe tbody tr th {\n",
       "        vertical-align: top;\n",
       "    }\n",
       "\n",
       "    .dataframe thead th {\n",
       "        text-align: right;\n",
       "    }\n",
       "</style>\n",
       "<table border=\"1\" class=\"dataframe\">\n",
       "  <thead>\n",
       "    <tr style=\"text-align: right;\">\n",
       "      <th></th>\n",
       "      <th>Ціна</th>\n",
       "      <th>Кількість кімнат</th>\n",
       "      <th>Ціна за метр кв.</th>\n",
       "      <th>Поверх</th>\n",
       "      <th>Кількість поверхів</th>\n",
       "      <th>Рік побудови</th>\n",
       "      <th>Загальна площа</th>\n",
       "      <th>Житлова площа</th>\n",
       "      <th>Площа кухні</th>\n",
       "      <th>Нежитлова площа</th>\n",
       "    </tr>\n",
       "  </thead>\n",
       "  <tbody>\n",
       "    <tr>\n",
       "      <th>0</th>\n",
       "      <td>175000.0</td>\n",
       "      <td>3</td>\n",
       "      <td>1786.0</td>\n",
       "      <td>25</td>\n",
       "      <td>26</td>\n",
       "      <td>2010</td>\n",
       "      <td>98.0</td>\n",
       "      <td>37.0</td>\n",
       "      <td>14.0</td>\n",
       "      <td>47.0</td>\n",
       "    </tr>\n",
       "    <tr>\n",
       "      <th>1</th>\n",
       "      <td>30970.0</td>\n",
       "      <td>1</td>\n",
       "      <td>1106.0</td>\n",
       "      <td>12</td>\n",
       "      <td>13</td>\n",
       "      <td>2013</td>\n",
       "      <td>28.0</td>\n",
       "      <td>13.0</td>\n",
       "      <td>5.0</td>\n",
       "      <td>10.0</td>\n",
       "    </tr>\n",
       "    <tr>\n",
       "      <th>2</th>\n",
       "      <td>82000.0</td>\n",
       "      <td>2</td>\n",
       "      <td>1281.0</td>\n",
       "      <td>18</td>\n",
       "      <td>26</td>\n",
       "      <td>2010</td>\n",
       "      <td>64.0</td>\n",
       "      <td>37.0</td>\n",
       "      <td>14.0</td>\n",
       "      <td>13.0</td>\n",
       "    </tr>\n",
       "  </tbody>\n",
       "</table>\n",
       "</div>"
      ],
      "text/plain": [
       "       Ціна  Кількість кімнат  Ціна за метр кв.  Поверх  Кількість поверхів  \\\n",
       "0  175000.0                 3            1786.0      25                  26   \n",
       "1   30970.0                 1            1106.0      12                  13   \n",
       "2   82000.0                 2            1281.0      18                  26   \n",
       "\n",
       "   Рік побудови  Загальна площа  Житлова площа  Площа кухні  Нежитлова площа  \n",
       "0          2010            98.0           37.0         14.0             47.0  \n",
       "1          2013            28.0           13.0          5.0             10.0  \n",
       "2          2010            64.0           37.0         14.0             13.0  "
      ]
     },
     "execution_count": 92,
     "metadata": {},
     "output_type": "execute_result"
    }
   ],
   "source": [
    "apparts.head(3)"
   ]
  },
  {
   "cell_type": "markdown",
   "id": "36dca640",
   "metadata": {},
   "source": [
    "### 5. Використання іншого алгоритму"
   ]
  },
  {
   "cell_type": "code",
   "execution_count": 103,
   "id": "ad2be029",
   "metadata": {},
   "outputs": [],
   "source": [
    "import xgboost as xgb"
   ]
  },
  {
   "cell_type": "code",
   "execution_count": 104,
   "id": "790e230e",
   "metadata": {},
   "outputs": [],
   "source": [
    "xgb.XGBRegressor?"
   ]
  },
  {
   "cell_type": "code",
   "execution_count": 105,
   "id": "18118cfe",
   "metadata": {},
   "outputs": [],
   "source": [
    "xg_reg = xgb.XGBRegressor(objective='reg:squarederror',colsample_bytree = 0.3, learning_rate = 0.01,\n",
    "                max_depth = 5, alpha = 15000, n_estimators = 10, booster='gblinear')"
   ]
  },
  {
   "cell_type": "code",
   "execution_count": 107,
   "id": "ed154b11",
   "metadata": {},
   "outputs": [
    {
     "name": "stdout",
     "output_type": "stream",
     "text": [
      "[13:19:35] WARNING: ../src/learner.cc:576: \n",
      "Parameters: { \"colsample_bytree\", \"max_depth\" } might not be used.\n",
      "\n",
      "  This could be a false alarm, with some parameters getting used by language bindings but\n",
      "  then being mistakenly passed down to XGBoost core, or some parameter actually being used\n",
      "  but getting flagged wrongly here. Please open an issue if you find any such cases.\n",
      "\n",
      "\n"
     ]
    },
    {
     "data": {
      "text/plain": [
       "XGBRegressor(alpha=15000, base_score=0.5, booster='gblinear',\n",
       "             colsample_bylevel=None, colsample_bynode=None,\n",
       "             colsample_bytree=0.3, enable_categorical=False, gamma=None,\n",
       "             gpu_id=-1, importance_type=None, interaction_constraints=None,\n",
       "             learning_rate=0.01, max_delta_step=None, max_depth=5,\n",
       "             min_child_weight=None, missing=nan, monotone_constraints=None,\n",
       "             n_estimators=10, n_jobs=4, num_parallel_tree=None, predictor=None,\n",
       "             random_state=0, reg_alpha=0, reg_lambda=0, scale_pos_weight=1,\n",
       "             subsample=None, tree_method=None, validate_parameters=1,\n",
       "             verbosity=None)"
      ]
     },
     "execution_count": 107,
     "metadata": {},
     "output_type": "execute_result"
    }
   ],
   "source": [
    "xg_reg.fit(props_train, prices_train.to_numpy())"
   ]
  },
  {
   "cell_type": "code",
   "execution_count": 108,
   "id": "b2bd5667",
   "metadata": {},
   "outputs": [
    {
     "data": {
      "text/plain": [
       "array([4.46954e+03, 6.17426e+00, 5.94508e+02, 3.98254e+02, 4.23909e+00,\n",
       "       1.38559e+02, 2.34537e+02, 6.08295e+02, 3.66867e+02])"
      ]
     },
     "execution_count": 108,
     "metadata": {},
     "output_type": "execute_result"
    }
   ],
   "source": [
    "xg_reg.coef_"
   ]
  },
  {
   "cell_type": "code",
   "execution_count": 109,
   "id": "93d206c5",
   "metadata": {},
   "outputs": [
    {
     "name": "stdout",
     "output_type": "stream",
     "text": [
      "0.10498200472683616\n",
      "0.01058008048270731\n"
     ]
    }
   ],
   "source": [
    "print(xg_reg.score(props_train, prices_train))\n",
    "print(xg_reg.score(props_test, prices_test))"
   ]
  },
  {
   "cell_type": "code",
   "execution_count": 110,
   "id": "edfb73a7",
   "metadata": {},
   "outputs": [],
   "source": [
    "prices_predict = xg_reg.predict(props_test)"
   ]
  },
  {
   "cell_type": "code",
   "execution_count": 111,
   "id": "db64fc7d",
   "metadata": {},
   "outputs": [
    {
     "data": {
      "text/html": [
       "<div>\n",
       "<style scoped>\n",
       "    .dataframe tbody tr th:only-of-type {\n",
       "        vertical-align: middle;\n",
       "    }\n",
       "\n",
       "    .dataframe tbody tr th {\n",
       "        vertical-align: top;\n",
       "    }\n",
       "\n",
       "    .dataframe thead th {\n",
       "        text-align: right;\n",
       "    }\n",
       "</style>\n",
       "<table border=\"1\" class=\"dataframe\">\n",
       "  <thead>\n",
       "    <tr style=\"text-align: right;\">\n",
       "      <th></th>\n",
       "      <th>Реальні ціни</th>\n",
       "      <th>Розраховані ціни</th>\n",
       "    </tr>\n",
       "  </thead>\n",
       "  <tbody>\n",
       "    <tr>\n",
       "      <th>667</th>\n",
       "      <td>58000</td>\n",
       "      <td>58810</td>\n",
       "    </tr>\n",
       "    <tr>\n",
       "      <th>185</th>\n",
       "      <td>147075</td>\n",
       "      <td>82030</td>\n",
       "    </tr>\n",
       "    <tr>\n",
       "      <th>688</th>\n",
       "      <td>140000</td>\n",
       "      <td>105249</td>\n",
       "    </tr>\n",
       "    <tr>\n",
       "      <th>263</th>\n",
       "      <td>62000</td>\n",
       "      <td>66970</td>\n",
       "    </tr>\n",
       "    <tr>\n",
       "      <th>554</th>\n",
       "      <td>39000</td>\n",
       "      <td>46669</td>\n",
       "    </tr>\n",
       "    <tr>\n",
       "      <th>396</th>\n",
       "      <td>67000</td>\n",
       "      <td>69184</td>\n",
       "    </tr>\n",
       "    <tr>\n",
       "      <th>427</th>\n",
       "      <td>135000</td>\n",
       "      <td>87274</td>\n",
       "    </tr>\n",
       "    <tr>\n",
       "      <th>487</th>\n",
       "      <td>150000</td>\n",
       "      <td>88219</td>\n",
       "    </tr>\n",
       "    <tr>\n",
       "      <th>605</th>\n",
       "      <td>158364</td>\n",
       "      <td>88688</td>\n",
       "    </tr>\n",
       "    <tr>\n",
       "      <th>114</th>\n",
       "      <td>900000</td>\n",
       "      <td>205948</td>\n",
       "    </tr>\n",
       "  </tbody>\n",
       "</table>\n",
       "</div>"
      ],
      "text/plain": [
       "     Реальні ціни  Розраховані ціни\n",
       "667         58000             58810\n",
       "185        147075             82030\n",
       "688        140000            105249\n",
       "263         62000             66970\n",
       "554         39000             46669\n",
       "396         67000             69184\n",
       "427        135000             87274\n",
       "487        150000             88219\n",
       "605        158364             88688\n",
       "114        900000            205948"
      ]
     },
     "execution_count": 111,
     "metadata": {},
     "output_type": "execute_result"
    }
   ],
   "source": [
    "pd.DataFrame({\"Реальні ціни\": prices_test[:10],\n",
    "             \"Розраховані ціни\": prices_predict[:10]}).astype(\"int32\")"
   ]
  },
  {
   "cell_type": "code",
   "execution_count": 114,
   "id": "8cdf051e",
   "metadata": {},
   "outputs": [
    {
     "ename": "ValueError",
     "evalue": "training data did not have the following fields: Кількість кімнат, Ціна за метр кв., Поверх, Кількість поверхів, Рік побудови, Загальна площа, Житлова площа, Площа кухні, Нежитлова площа",
     "output_type": "error",
     "traceback": [
      "\u001b[0;31m---------------------------------------------------------------------------\u001b[0m",
      "\u001b[0;31mValueError\u001b[0m                                Traceback (most recent call last)",
      "Input \u001b[0;32mIn [114]\u001b[0m, in \u001b[0;36m<module>\u001b[0;34m\u001b[0m\n\u001b[0;32m----> 1\u001b[0m price_1 \u001b[38;5;241m=\u001b[39m \u001b[43mxg_reg\u001b[49m\u001b[38;5;241;43m.\u001b[39;49m\u001b[43mpredict\u001b[49m\u001b[43m(\u001b[49m\u001b[43m[\u001b[49m\u001b[43m[\u001b[49m\u001b[38;5;241;43m2\u001b[39;49m\u001b[43m,\u001b[49m\u001b[43m \u001b[49m\u001b[38;5;241;43m2258.0\u001b[39;49m\u001b[43m,\u001b[49m\u001b[43m \u001b[49m\u001b[38;5;241;43m7\u001b[39;49m\u001b[43m,\u001b[49m\u001b[43m \u001b[49m\u001b[38;5;241;43m9\u001b[39;49m\u001b[43m,\u001b[49m\u001b[43m \u001b[49m\u001b[38;5;241;43m1969\u001b[39;49m\u001b[43m,\u001b[49m\u001b[43m \u001b[49m\u001b[38;5;241;43m62.0\u001b[39;49m\u001b[43m,\u001b[49m\u001b[43m \u001b[49m\u001b[38;5;241;43m47.0\u001b[39;49m\u001b[43m \u001b[49m\u001b[43m,\u001b[49m\u001b[38;5;241;43m9.0\u001b[39;49m\u001b[43m]\u001b[49m\u001b[43m]\u001b[49m\u001b[43m)\u001b[49m\n\u001b[1;32m      2\u001b[0m price_2 \u001b[38;5;241m=\u001b[39m xg_reg\u001b[38;5;241m.\u001b[39mpredict([[\u001b[38;5;241m4\u001b[39m, \u001b[38;5;241m847.0\u001b[39m, \u001b[38;5;241m25\u001b[39m, \u001b[38;5;241m26\u001b[39m, \u001b[38;5;241m2018\u001b[39m, \u001b[38;5;241m124.0\u001b[39m,\u001b[38;5;241m71.0\u001b[39m,\u001b[38;5;241m16.0\u001b[39m]])\n\u001b[1;32m      4\u001b[0m \u001b[38;5;66;03m# price_1 = xg_reg.predict([[2, 7,   9, 1969, 47.0 ,9.0, 62-47-9]])\u001b[39;00m\n\u001b[1;32m      5\u001b[0m \u001b[38;5;66;03m# price_2 = xg_reg.predict([[4, 25, 26, 2018, 71.0,16.0, 124-71-16]])\u001b[39;00m\n",
      "File \u001b[0;32m~/opt/miniconda3/envs/p39jupyter/lib/python3.9/site-packages/xgboost/sklearn.py:903\u001b[0m, in \u001b[0;36mXGBModel.predict\u001b[0;34m(self, X, output_margin, ntree_limit, validate_features, base_margin, iteration_range)\u001b[0m\n\u001b[1;32m    895\u001b[0m         \u001b[38;5;28;01mpass\u001b[39;00m\n\u001b[1;32m    897\u001b[0m test \u001b[38;5;241m=\u001b[39m DMatrix(\n\u001b[1;32m    898\u001b[0m     X, base_margin\u001b[38;5;241m=\u001b[39mbase_margin,\n\u001b[1;32m    899\u001b[0m     missing\u001b[38;5;241m=\u001b[39m\u001b[38;5;28mself\u001b[39m\u001b[38;5;241m.\u001b[39mmissing,\n\u001b[1;32m    900\u001b[0m     nthread\u001b[38;5;241m=\u001b[39m\u001b[38;5;28mself\u001b[39m\u001b[38;5;241m.\u001b[39mn_jobs,\n\u001b[1;32m    901\u001b[0m     enable_categorical\u001b[38;5;241m=\u001b[39m\u001b[38;5;28mself\u001b[39m\u001b[38;5;241m.\u001b[39menable_categorical\n\u001b[1;32m    902\u001b[0m )\n\u001b[0;32m--> 903\u001b[0m \u001b[38;5;28;01mreturn\u001b[39;00m \u001b[38;5;28;43mself\u001b[39;49m\u001b[38;5;241;43m.\u001b[39;49m\u001b[43mget_booster\u001b[49m\u001b[43m(\u001b[49m\u001b[43m)\u001b[49m\u001b[38;5;241;43m.\u001b[39;49m\u001b[43mpredict\u001b[49m\u001b[43m(\u001b[49m\n\u001b[1;32m    904\u001b[0m \u001b[43m    \u001b[49m\u001b[43mdata\u001b[49m\u001b[38;5;241;43m=\u001b[39;49m\u001b[43mtest\u001b[49m\u001b[43m,\u001b[49m\n\u001b[1;32m    905\u001b[0m \u001b[43m    \u001b[49m\u001b[43miteration_range\u001b[49m\u001b[38;5;241;43m=\u001b[39;49m\u001b[43miteration_range\u001b[49m\u001b[43m,\u001b[49m\n\u001b[1;32m    906\u001b[0m \u001b[43m    \u001b[49m\u001b[43moutput_margin\u001b[49m\u001b[38;5;241;43m=\u001b[39;49m\u001b[43moutput_margin\u001b[49m\u001b[43m,\u001b[49m\n\u001b[1;32m    907\u001b[0m \u001b[43m    \u001b[49m\u001b[43mvalidate_features\u001b[49m\u001b[38;5;241;43m=\u001b[39;49m\u001b[43mvalidate_features\u001b[49m\u001b[43m,\u001b[49m\n\u001b[1;32m    908\u001b[0m \u001b[43m\u001b[49m\u001b[43m)\u001b[49m\n",
      "File \u001b[0;32m~/opt/miniconda3/envs/p39jupyter/lib/python3.9/site-packages/xgboost/core.py:1887\u001b[0m, in \u001b[0;36mBooster.predict\u001b[0;34m(self, data, output_margin, ntree_limit, pred_leaf, pred_contribs, approx_contribs, pred_interactions, validate_features, training, iteration_range, strict_shape)\u001b[0m\n\u001b[1;32m   1885\u001b[0m     \u001b[38;5;28;01mraise\u001b[39;00m \u001b[38;5;167;01mTypeError\u001b[39;00m(\u001b[38;5;124m'\u001b[39m\u001b[38;5;124mExpecting data to be a DMatrix object, got: \u001b[39m\u001b[38;5;124m'\u001b[39m, \u001b[38;5;28mtype\u001b[39m(data))\n\u001b[1;32m   1886\u001b[0m \u001b[38;5;28;01mif\u001b[39;00m validate_features:\n\u001b[0;32m-> 1887\u001b[0m     \u001b[38;5;28;43mself\u001b[39;49m\u001b[38;5;241;43m.\u001b[39;49m\u001b[43m_validate_features\u001b[49m\u001b[43m(\u001b[49m\u001b[43mdata\u001b[49m\u001b[43m)\u001b[49m\n\u001b[1;32m   1888\u001b[0m iteration_range \u001b[38;5;241m=\u001b[39m _convert_ntree_limit(\u001b[38;5;28mself\u001b[39m, ntree_limit, iteration_range)\n\u001b[1;32m   1889\u001b[0m args \u001b[38;5;241m=\u001b[39m {\n\u001b[1;32m   1890\u001b[0m     \u001b[38;5;124m\"\u001b[39m\u001b[38;5;124mtype\u001b[39m\u001b[38;5;124m\"\u001b[39m: \u001b[38;5;241m0\u001b[39m,\n\u001b[1;32m   1891\u001b[0m     \u001b[38;5;124m\"\u001b[39m\u001b[38;5;124mtraining\u001b[39m\u001b[38;5;124m\"\u001b[39m: training,\n\u001b[0;32m   (...)\u001b[0m\n\u001b[1;32m   1894\u001b[0m     \u001b[38;5;124m\"\u001b[39m\u001b[38;5;124mstrict_shape\u001b[39m\u001b[38;5;124m\"\u001b[39m: strict_shape,\n\u001b[1;32m   1895\u001b[0m }\n",
      "File \u001b[0;32m~/opt/miniconda3/envs/p39jupyter/lib/python3.9/site-packages/xgboost/core.py:2458\u001b[0m, in \u001b[0;36mBooster._validate_features\u001b[0;34m(self, data)\u001b[0m\n\u001b[1;32m   2456\u001b[0m     \u001b[38;5;28mself\u001b[39m\u001b[38;5;241m.\u001b[39mfeature_types \u001b[38;5;241m=\u001b[39m data\u001b[38;5;241m.\u001b[39mfeature_types\n\u001b[1;32m   2457\u001b[0m \u001b[38;5;28;01mif\u001b[39;00m data\u001b[38;5;241m.\u001b[39mfeature_names \u001b[38;5;129;01mis\u001b[39;00m \u001b[38;5;28;01mNone\u001b[39;00m \u001b[38;5;129;01mand\u001b[39;00m \u001b[38;5;28mself\u001b[39m\u001b[38;5;241m.\u001b[39mfeature_names \u001b[38;5;129;01mis\u001b[39;00m \u001b[38;5;129;01mnot\u001b[39;00m \u001b[38;5;28;01mNone\u001b[39;00m:\n\u001b[0;32m-> 2458\u001b[0m     \u001b[38;5;28;01mraise\u001b[39;00m \u001b[38;5;167;01mValueError\u001b[39;00m(\n\u001b[1;32m   2459\u001b[0m         \u001b[38;5;124m\"\u001b[39m\u001b[38;5;124mtraining data did not have the following fields: \u001b[39m\u001b[38;5;124m\"\u001b[39m \u001b[38;5;241m+\u001b[39m\n\u001b[1;32m   2460\u001b[0m         \u001b[38;5;124m\"\u001b[39m\u001b[38;5;124m, \u001b[39m\u001b[38;5;124m\"\u001b[39m\u001b[38;5;241m.\u001b[39mjoin(\u001b[38;5;28mself\u001b[39m\u001b[38;5;241m.\u001b[39mfeature_names)\n\u001b[1;32m   2461\u001b[0m     )\n\u001b[1;32m   2462\u001b[0m \u001b[38;5;66;03m# Booster can't accept data with different feature names\u001b[39;00m\n\u001b[1;32m   2463\u001b[0m \u001b[38;5;28;01mif\u001b[39;00m \u001b[38;5;28mself\u001b[39m\u001b[38;5;241m.\u001b[39mfeature_names \u001b[38;5;241m!=\u001b[39m data\u001b[38;5;241m.\u001b[39mfeature_names:\n",
      "\u001b[0;31mValueError\u001b[0m: training data did not have the following fields: Кількість кімнат, Ціна за метр кв., Поверх, Кількість поверхів, Рік побудови, Загальна площа, Житлова площа, Площа кухні, Нежитлова площа"
     ]
    }
   ],
   "source": [
    "# price_1 = xg_reg.predict([[2, 2258.0, 7, 9, 1969, 62.0, 47.0 ,9.0]])\n",
    "# price_2 = xg_reg.predict([[4, 847.0, 25, 26, 2018, 124.0,71.0,16.0]])\n",
    "\n",
    "# price_1 = xg_reg.predict([[2, 7,   9, 1969, 47.0 ,9.0, 62-47-9]])\n",
    "# price_2 = xg_reg.predict([[4, 25, 26, 2018, 71.0,16.0, 124-71-16]])\n",
    "\n",
    "print(price_1)\n",
    "print(price_2)\n",
    "# price_1_orig = 140000, price_2_orig = 105000"
   ]
  },
  {
   "cell_type": "code",
   "execution_count": null,
   "id": "f6061849",
   "metadata": {},
   "outputs": [],
   "source": [
    "# побудувити таблицю з результатами \n",
    "table = pd.DataFrame({'пропозиція 1: ': price_1, 'пропозиція 2: ': price_2}).astype('int32')"
   ]
  },
  {
   "cell_type": "code",
   "execution_count": null,
   "id": "a8716c1c",
   "metadata": {
    "scrolled": true
   },
   "outputs": [],
   "source": [
    "table"
   ]
  },
  {
   "cell_type": "markdown",
   "id": "47afaab5",
   "metadata": {
    "heading_collapsed": true
   },
   "source": [
    "#### cross-validation"
   ]
  },
  {
   "cell_type": "code",
   "execution_count": null,
   "id": "a0398389",
   "metadata": {
    "hidden": true
   },
   "outputs": [],
   "source": [
    "params = {\"objective\":\"reg:squarederror\",'colsample_bytree': 0.3,'learning_rate': 0.1,\n",
    "                'max_depth': 5, 'alpha': 10000}"
   ]
  },
  {
   "cell_type": "code",
   "execution_count": null,
   "id": "eb881391",
   "metadata": {
    "hidden": true
   },
   "outputs": [],
   "source": [
    "data_dmatrix = xgb.DMatrix(data=props,label=prices)"
   ]
  },
  {
   "cell_type": "code",
   "execution_count": null,
   "id": "45ddc3b3",
   "metadata": {
    "hidden": true
   },
   "outputs": [],
   "source": [
    "data_dmatrix.feature_names"
   ]
  },
  {
   "cell_type": "code",
   "execution_count": null,
   "id": "584ea9cb",
   "metadata": {
    "hidden": true
   },
   "outputs": [],
   "source": [
    "cv_results = xgb.cv(dtrain=data_dmatrix, params=params, nfold=3,\n",
    "                    num_boost_round=50, early_stopping_rounds=10, metrics=\"rmse\", \n",
    "                    as_pandas=True, seed=123)"
   ]
  },
  {
   "cell_type": "code",
   "execution_count": null,
   "id": "ec94c20b",
   "metadata": {
    "hidden": true,
    "scrolled": true
   },
   "outputs": [],
   "source": [
    "cv_results.head()"
   ]
  },
  {
   "cell_type": "code",
   "execution_count": null,
   "id": "057a61be",
   "metadata": {
    "hidden": true
   },
   "outputs": [],
   "source": [
    "cv_results.tail(1)"
   ]
  },
  {
   "cell_type": "code",
   "execution_count": null,
   "id": "16a60164",
   "metadata": {
    "hidden": true
   },
   "outputs": [],
   "source": [
    "xg_reg = xgb.train(params=params, dtrain=data_dmatrix, num_boost_round=10)"
   ]
  },
  {
   "cell_type": "code",
   "execution_count": null,
   "id": "90666369",
   "metadata": {
    "hidden": true
   },
   "outputs": [],
   "source": [
    "xg_reg.get_score?"
   ]
  },
  {
   "cell_type": "code",
   "execution_count": null,
   "id": "fd8fda2d",
   "metadata": {
    "hidden": true
   },
   "outputs": [],
   "source": [
    "data_dmatrix_test = xgb.DMatrix(data=props_test, label=prices_test)"
   ]
  },
  {
   "cell_type": "code",
   "execution_count": null,
   "id": "92b05a2a",
   "metadata": {
    "hidden": true,
    "scrolled": true
   },
   "outputs": [],
   "source": [
    "prices_predict = xg_reg.predict(data_dmatrix_test)"
   ]
  },
  {
   "cell_type": "code",
   "execution_count": null,
   "id": "1429d6fe",
   "metadata": {
    "hidden": true
   },
   "outputs": [],
   "source": [
    "pd.DataFrame({\"Реальні ціни\": prices_test[:10],\n",
    "             \"Розраховані ціни\": prices_predict[:10]}).astype(\"int32\")"
   ]
  },
  {
   "cell_type": "code",
   "execution_count": null,
   "id": "33ac74ad",
   "metadata": {
    "hidden": true
   },
   "outputs": [],
   "source": [
    "xgb.plot_importance(xg_reg)\n",
    "plt.rcParams['figure.figsize'] = [5, 5]\n",
    "plt.show()"
   ]
  },
  {
   "cell_type": "markdown",
   "id": "b869b412",
   "metadata": {},
   "source": [
    "### 6. Використання іншої моделі"
   ]
  },
  {
   "cell_type": "code",
   "execution_count": null,
   "id": "eb870505",
   "metadata": {},
   "outputs": [],
   "source": []
  }
 ],
 "metadata": {
  "kernelspec": {
   "display_name": "Python 3 (ipykernel)",
   "language": "python",
   "name": "python3"
  },
  "language_info": {
   "codemirror_mode": {
    "name": "ipython",
    "version": 3
   },
   "file_extension": ".py",
   "mimetype": "text/x-python",
   "name": "python",
   "nbconvert_exporter": "python",
   "pygments_lexer": "ipython3",
   "version": "3.9.7"
  },
  "toc-autonumbering": true,
  "toc-showcode": true,
  "toc-showmarkdowntxt": false,
  "toc-showtags": false,
  "varInspector": {
   "cols": {
    "lenName": 16,
    "lenType": 16,
    "lenVar": 40
   },
   "kernels_config": {
    "python": {
     "delete_cmd_postfix": "",
     "delete_cmd_prefix": "del ",
     "library": "var_list.py",
     "varRefreshCmd": "print(var_dic_list())"
    },
    "r": {
     "delete_cmd_postfix": ") ",
     "delete_cmd_prefix": "rm(",
     "library": "var_list.r",
     "varRefreshCmd": "cat(var_dic_list()) "
    }
   },
   "types_to_exclude": [
    "module",
    "function",
    "builtin_function_or_method",
    "instance",
    "_Feature"
   ],
   "window_display": false
  }
 },
 "nbformat": 4,
 "nbformat_minor": 5
}
